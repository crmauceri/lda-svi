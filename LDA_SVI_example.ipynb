{
 "cells": [
  {
   "cell_type": "code",
   "execution_count": 17,
   "metadata": {
    "collapsed": true
   },
   "outputs": [],
   "source": [
    "import cPickle, string, numpy, getopt, sys, random, time, re\n",
    "import onlineldavb\n",
    "\n",
    "from sklearn.feature_extraction.text import TfidfVectorizer,CountVectorizer"
   ]
  },
  {
   "cell_type": "markdown",
   "metadata": {},
   "source": [
    "### Import the dataset"
   ]
  },
  {
   "cell_type": "code",
   "execution_count": 19,
   "metadata": {
    "collapsed": true
   },
   "outputs": [],
   "source": [
    "import pickle\n",
    "wds=pickle.load(open(\"MSRvid.p\",'rb'))\n",
    "\n",
    "documents = []\n",
    "\n",
    "for i in wds:\n",
    "    documents.append(i[0]) \n",
    "    documents.append(i[1]) "
   ]
  },
  {
   "cell_type": "markdown",
   "metadata": {},
   "source": [
    "## Set parameters for SVI"
   ]
  },
  {
   "cell_type": "code",
   "execution_count": 32,
   "metadata": {
    "collapsed": true
   },
   "outputs": [],
   "source": [
    "K = 3 #Number of topics\n",
    "D = len(documents) #Number of documents\n",
    "batchsize = 16\n",
    "num_iterations = 4000\n",
    "kappa = 0.9 #Learning rate"
   ]
  },
  {
   "cell_type": "code",
   "execution_count": 35,
   "metadata": {
    "collapsed": false
   },
   "outputs": [
    {
     "data": {
      "text/plain": [
       "1075"
      ]
     },
     "execution_count": 35,
     "metadata": {},
     "output_type": "execute_result"
    }
   ],
   "source": [
    "len(vocab)"
   ]
  },
  {
   "cell_type": "markdown",
   "metadata": {
    "collapsed": true
   },
   "source": [
    "## Get vocabulary"
   ]
  },
  {
   "cell_type": "markdown",
   "metadata": {},
   "source": [
    "### (Optionally remove most frequent and most infrequent)"
   ]
  },
  {
   "cell_type": "code",
   "execution_count": 23,
   "metadata": {
    "collapsed": false
   },
   "outputs": [],
   "source": [
    "def getMeanVocab(vectorizer, num_std=1):\n",
    "    vocab = []\n",
    "    most_frequent = numpy.max(vectorizer.vocabulary_.values())\n",
    "    vocab_std = numpy.std(vectorizer.vocabulary_.values())\n",
    "    vocab_mean = numpy.mean(vectorizer.vocabulary_.values())\n",
    "\n",
    "    print \"Num vocab: %d\\nMost frequent: %d\\nMean: %d\\nStd: %d\" % \\\n",
    "        (len(vectorizer.vocabulary_), most_frequent, vocab_mean, vocab_std)\n",
    "\n",
    "    removed = 0\n",
    "    for key in vectorizer.vocabulary_:\n",
    "        if vectorizer.vocabulary_[key] > vocab_mean - num_std*vocab_std and \\\n",
    "            vectorizer.vocabulary_[key] < vocab_mean + num_std*vocab_std:\n",
    "            vocab.append(key)\n",
    "        else:\n",
    "            removed = removed + 1\n",
    "    print('Number of stopwords removed: %d' % removed)\n",
    "    return vocab"
   ]
  },
  {
   "cell_type": "markdown",
   "metadata": {},
   "source": [
    "### (Optionally remove stopwords)"
   ]
  },
  {
   "cell_type": "code",
   "execution_count": 24,
   "metadata": {
    "collapsed": false
   },
   "outputs": [],
   "source": [
    "with open(\"stopwords.p\", 'r') as f:\n",
    "    sw = pickle.load(f)\n",
    "\n",
    "def remove_stop(vocabulary):\n",
    "    new_vocab = []\n",
    "    removed = 0\n",
    "    for i in vocabulary:\n",
    "        if i not in sw:\n",
    "            new_vocab.append(i)\n",
    "        else:\n",
    "            removed = removed + 1\n",
    "    print('Number of stopwords removed: %d' % removed)\n",
    "    return new_vocab"
   ]
  },
  {
   "cell_type": "markdown",
   "metadata": {},
   "source": [
    "### Tokenize documents to get vocabulary"
   ]
  },
  {
   "cell_type": "code",
   "execution_count": 36,
   "metadata": {
    "collapsed": false
   },
   "outputs": [
    {
     "name": "stdout",
     "output_type": "stream",
     "text": [
      "Number of stopwords removed: 54\n",
      "Size of vocab: 1075\n"
     ]
    }
   ],
   "source": [
    "vectorizer = CountVectorizer()\n",
    "vectors = vectorizer.fit(documents)\n",
    "\n",
    "vocab = remove_stop(vectorizer.vocabulary_.keys()) #, getVocab(vectors)   \n",
    "print('Size of vocab: %d' % len(vocab))"
   ]
  },
  {
   "cell_type": "markdown",
   "metadata": {},
   "source": [
    "## Function to get mini-batch"
   ]
  },
  {
   "cell_type": "code",
   "execution_count": 37,
   "metadata": {
    "collapsed": true
   },
   "outputs": [],
   "source": [
    "from random import sample\n",
    "\n",
    "def getbatch(size, iteration):\n",
    "    \n",
    "    sample_idx = sample(range(D), size)\n",
    "    return [documents[i] for i in sample_idx]"
   ]
  },
  {
   "cell_type": "markdown",
   "metadata": {
    "collapsed": false
   },
   "source": [
    "## Train LDA model using SVI"
   ]
  },
  {
   "cell_type": "code",
   "execution_count": null,
   "metadata": {
    "collapsed": false,
    "scrolled": true
   },
   "outputs": [
    {
     "name": "stdout",
     "output_type": "stream",
     "text": [
      "Parameters: \n",
      "\t Num topics: 3 \n",
      "\t Num documents: 1500\n",
      "\t prior on weight vectors (theta): 0.33 \n",
      "\t prior on topics (beta): 0.33\n",
      "\t burn in rate: 1024.00 \n",
      "\t learning rate: 0.90\n",
      "Training iteration 0\n",
      "Training iteration 50\n",
      "Training iteration 100\n",
      "Training iteration 150\n",
      "Training iteration 200\n",
      "Training iteration 250\n",
      "Training iteration 300\n",
      "Training iteration 350\n",
      "Training iteration 400\n",
      "Training iteration 450\n",
      "Training iteration 500\n",
      "Training iteration 550\n",
      "Training iteration 600\n",
      "Training iteration 650\n",
      "Training iteration 700\n",
      "Training iteration 750\n",
      "Training iteration 800\n",
      "Training iteration 850\n",
      "Training iteration 900\n",
      "Training iteration 950\n",
      "Training iteration 1000\n",
      "Training iteration 1050\n",
      "Training iteration 1100\n",
      "Training iteration 1150\n",
      "Training iteration 1200\n",
      "Training iteration 1250\n",
      "Training iteration 1300\n",
      "Training iteration 1350\n",
      "Training iteration 1400\n",
      "Training iteration 1450\n",
      "Training iteration 1500\n",
      "Training iteration 1550\n",
      "Training iteration 1600\n",
      "Training iteration 1650\n",
      "Training iteration 1700\n",
      "Training iteration 1750\n",
      "Training iteration 1800\n",
      "Training iteration 1850\n",
      "Training iteration 1900\n",
      "Training iteration 1950\n",
      "Training iteration 2000\n",
      "Training iteration 2050\n",
      "Training iteration 2100\n",
      "Training iteration 2150\n",
      "Training iteration 2200\n",
      "Training iteration 2250\n",
      "Training iteration 2300\n",
      "Training iteration 2350\n",
      "Training iteration 2400\n",
      "Training iteration 2450\n",
      "Training iteration 2500\n",
      "Training iteration 2550\n",
      "Training iteration 2600\n",
      "Training iteration 2650\n",
      "Training iteration 2700\n",
      "Training iteration 2750\n",
      "Training iteration 2800\n",
      "Training iteration 2850\n",
      "Training iteration 2900\n",
      "Training iteration 2950\n",
      "Training iteration 3000\n",
      "Training iteration 3050\n",
      "Training iteration 3100\n",
      "Training iteration 3150\n",
      "Training iteration 3200\n"
     ]
    }
   ],
   "source": [
    "print \"Parameters: \\n\\t Num topics: %d \\n\\t Num documents: %d\" % (K, D)\n",
    "print \"\\t prior on weight vectors (theta): %4.2f \\n\\t prior on topics (beta): %4.2f\" % (1./K, 1./K)\n",
    "print \"\\t burn in rate: %4.2f \\n\\t learning rate: %4.2f\" % (1024., kappa)\n",
    "\n",
    "rho = []\n",
    "perplex = []\n",
    "elogbeta = []\n",
    "lambdaVar = []\n",
    "num_iterations=1000\n",
    "olda = onlineldavb.OnlineLDA(vocab, K, D, 1./K, 1./K, 1024., kappa)\n",
    "for iteration in range(0, num_iterations):\n",
    "    docset=getbatch(batchsize,iteration)\n",
    "    (gamma, bound) = olda.update_lambda(docset)\n",
    "    (wordids, wordcts) = onlineldavb.parse_doc_list(docset, olda._vocab,False)\n",
    "    perwordbound = bound * len(docset) / (D * sum(map(sum, wordcts)))\n",
    "    rho.append(olda._rhot,)\n",
    "    perplex.append(numpy.exp(-perwordbound))\n",
    "    elogbeta.append(olda._Elogbeta)\n",
    "    lambdaVar.append(olda._lambda)\n",
    "    \n",
    "    if (iteration % 50 == 0):\n",
    "        print \"Training iteration %d\" % iteration\n",
    "        \n",
    "\n",
    "            \n",
    "print \"Done training\""
   ]
  },
  {
   "cell_type": "markdown",
   "metadata": {},
   "source": [
    "## Convergence visualization"
   ]
  },
  {
   "cell_type": "code",
   "execution_count": 28,
   "metadata": {
    "collapsed": true
   },
   "outputs": [],
   "source": [
    "import warnings\n",
    "warnings.filterwarnings('ignore')"
   ]
  },
  {
   "cell_type": "code",
   "execution_count": 29,
   "metadata": {
    "collapsed": false
   },
   "outputs": [
    {
     "data": {
      "image/png": "[encoded data removed]",
      "text/plain": [
       "<matplotlib.figure.Figure at 0x118a66450>"
      ]
     },
     "metadata": {},
     "output_type": "display_data"
    }
   ],
   "source": [
    "from matplotlib import pyplot as plt\n",
    "%matplotlib inline\n",
    "\n",
    "plt.figure()\n",
    "plt.semilogy(range(len(perplex)), perplex)\n",
    "plt.ylabel('held-out perplexity estimate')\n",
    "plt.xlabel('iteration')\n",
    "plt.show()"
   ]
  },
  {
   "cell_type": "code",
   "execution_count": 30,
   "metadata": {
    "collapsed": false
   },
   "outputs": [
    {
     "data": {
      "image/png": "[encoded data removed]",
      "text/plain": [
       "<matplotlib.figure.Figure at 0x11507fc50>"
      ]
     },
     "metadata": {},
     "output_type": "display_data"
    }
   ],
   "source": [
    "beta_convergence = [numpy.sum(elogbeta[i+1]-elogbeta[i]) for i in range(1, len(elogbeta)-1)]\n",
    "\n",
    "plt.figure()\n",
    "plt.plot(range(len(beta_convergence)), beta_convergence)\n",
    "plt.ylabel('elogbeta')\n",
    "plt.xlabel('iteration')\n",
    "plt.show()\n"
   ]
  },
  {
   "cell_type": "code",
   "execution_count": 12,
   "metadata": {
    "collapsed": false
   },
   "outputs": [
    {
     "data": {
      "image/png": "[encoded data removed]",
      "text/plain": [
       "<matplotlib.figure.Figure at 0x118a29310>"
      ]
     },
     "metadata": {},
     "output_type": "display_data"
    }
   ],
   "source": [
    "#print(lambdaVar)\n",
    "#print(lambdaVar[0].shape)\n",
    "lambda_convergence = [numpy.sum(lambdaVar[i+1]-lambdaVar[i]) for i in range(1, len(lambdaVar)-1)]\n",
    "\n",
    "plt.figure()\n",
    "plt.plot(range(len(lambda_convergence)), lambda_convergence)\n",
    "plt.ylabel('lambda')\n",
    "plt.xlabel('iteration')\n",
    "plt.show()"
   ]
  },
  {
   "cell_type": "markdown",
   "metadata": {
    "collapsed": false
   },
   "source": [
    "## Print vocabulary per topic"
   ]
  },
  {
   "cell_type": "code",
   "execution_count": 34,
   "metadata": {
    "collapsed": false
   },
   "outputs": [
    {
     "name": "stdout",
     "output_type": "stream",
     "text": [
      "topic 0:\n",
      "                 man  \t---\t  0.1460\n",
      "               woman  \t---\t  0.0887\n",
      "             playing  \t---\t  0.0544\n",
      "             slicing  \t---\t  0.0250\n",
      "              guitar  \t---\t  0.0247\n",
      "\n",
      "topic 1:\n",
      "                 cat  \t---\t  0.0372\n",
      "                 dog  \t---\t  0.0339\n",
      "             walking  \t---\t  0.0295\n",
      "               water  \t---\t  0.0132\n",
      "              monkey  \t---\t  0.0114\n",
      "\n",
      "topic 2:\n",
      "              eating  \t---\t  0.0337\n",
      "                 men  \t---\t  0.0240\n",
      "             running  \t---\t  0.0184\n",
      "                ball  \t---\t  0.0148\n",
      "                 boy  \t---\t  0.0138\n",
      "\n"
     ]
    }
   ],
   "source": [
    "num_vocab_display = 5\n",
    "\n",
    "for k in range(0, len(olda._lambda)):\n",
    "    lambdak = list(olda._lambda[k, :])\n",
    "    lambdak = lambdak / sum(lambdak)\n",
    "    temp = zip(lambdak, range(0, len(lambdak)))\n",
    "    temp = sorted(temp, key = lambda x: x[0], reverse=True)\n",
    "    print 'topic %d:' % (k)\n",
    "    for i in range(0, num_vocab_display):\n",
    "        print '%20s  \\t---\\t  %.4f' % (vocab[temp[i][1]], temp[i][0])\n",
    "    print"
   ]
  },
  {
   "cell_type": "markdown",
   "metadata": {
    "collapsed": true
   },
   "source": [
    "## Variational Inference w/ no Stochastisisty"
   ]
  },
  {
   "cell_type": "code",
   "execution_count": 42,
   "metadata": {
    "collapsed": false
   },
   "outputs": [
    {
     "name": "stdout",
     "output_type": "stream",
     "text": [
      "Parameters: \n",
      "\t Num topics: 3 \n",
      "\t Num documents: 1500\n",
      "\t prior on weight vectors (theta): 0.33 \n",
      "\t prior on topics (beta): 0.33\n",
      "\t burn in rate: 1024.00 \n",
      "\t learning rate: 0.00\n",
      "Training iteration 0\n"
     ]
    },
    {
     "ename": "KeyboardInterrupt",
     "evalue": "",
     "output_type": "error",
     "traceback": [
      "\u001b[0;31m---------------------------------------------------------------------------\u001b[0m",
      "\u001b[0;31mKeyboardInterrupt\u001b[0m                         Traceback (most recent call last)",
      "\u001b[0;32m<ipython-input-42-8b62013a8e6f>\u001b[0m in \u001b[0;36m<module>\u001b[0;34m()\u001b[0m\n\u001b[1;32m      9\u001b[0m \u001b[0;32mfor\u001b[0m \u001b[0miteration\u001b[0m \u001b[0;32min\u001b[0m \u001b[0mrange\u001b[0m\u001b[0;34m(\u001b[0m\u001b[0;36m0\u001b[0m\u001b[0;34m,\u001b[0m \u001b[0mnum_iterations\u001b[0m\u001b[0;34m)\u001b[0m\u001b[0;34m:\u001b[0m\u001b[0;34m\u001b[0m\u001b[0m\n\u001b[1;32m     10\u001b[0m     \u001b[0mdocset\u001b[0m\u001b[0;34m=\u001b[0m\u001b[0mdocuments\u001b[0m\u001b[0;34m\u001b[0m\u001b[0m\n\u001b[0;32m---> 11\u001b[0;31m     \u001b[0;34m(\u001b[0m\u001b[0mgamma\u001b[0m\u001b[0;34m,\u001b[0m \u001b[0mbound\u001b[0m\u001b[0;34m)\u001b[0m \u001b[0;34m=\u001b[0m \u001b[0molda\u001b[0m\u001b[0;34m.\u001b[0m\u001b[0mupdate_lambda\u001b[0m\u001b[0;34m(\u001b[0m\u001b[0mdocset\u001b[0m\u001b[0;34m)\u001b[0m\u001b[0;34m\u001b[0m\u001b[0m\n\u001b[0m\u001b[1;32m     12\u001b[0m     \u001b[0;34m(\u001b[0m\u001b[0mwordids\u001b[0m\u001b[0;34m,\u001b[0m \u001b[0mwordcts\u001b[0m\u001b[0;34m)\u001b[0m \u001b[0;34m=\u001b[0m \u001b[0monlineldavb\u001b[0m\u001b[0;34m.\u001b[0m\u001b[0mparse_doc_list\u001b[0m\u001b[0;34m(\u001b[0m\u001b[0mdocset\u001b[0m\u001b[0;34m,\u001b[0m \u001b[0molda\u001b[0m\u001b[0;34m.\u001b[0m\u001b[0m_vocab\u001b[0m\u001b[0;34m,\u001b[0m\u001b[0mFalse\u001b[0m\u001b[0;34m)\u001b[0m\u001b[0;34m\u001b[0m\u001b[0m\n\u001b[1;32m     13\u001b[0m     \u001b[0mperwordbound\u001b[0m \u001b[0;34m=\u001b[0m \u001b[0mbound\u001b[0m \u001b[0;34m*\u001b[0m \u001b[0mlen\u001b[0m\u001b[0;34m(\u001b[0m\u001b[0mdocset\u001b[0m\u001b[0;34m)\u001b[0m \u001b[0;34m/\u001b[0m \u001b[0;34m(\u001b[0m\u001b[0mD\u001b[0m \u001b[0;34m*\u001b[0m \u001b[0msum\u001b[0m\u001b[0;34m(\u001b[0m\u001b[0mmap\u001b[0m\u001b[0;34m(\u001b[0m\u001b[0msum\u001b[0m\u001b[0;34m,\u001b[0m \u001b[0mwordcts\u001b[0m\u001b[0;34m)\u001b[0m\u001b[0;34m)\u001b[0m\u001b[0;34m)\u001b[0m\u001b[0;34m\u001b[0m\u001b[0m\n",
      "\u001b[0;32m/Users/adityambpro/Downloads/lda-svi-master 2/onlineldavb.pyc\u001b[0m in \u001b[0;36mupdate_lambda\u001b[0;34m(self, docs)\u001b[0m\n\u001b[1;32m    269\u001b[0m         \u001b[0;31m# mini-batch. This also returns the information about phi that\u001b[0m\u001b[0;34m\u001b[0m\u001b[0;34m\u001b[0m\u001b[0m\n\u001b[1;32m    270\u001b[0m         \u001b[0;31m# we need to update lambda.\u001b[0m\u001b[0;34m\u001b[0m\u001b[0;34m\u001b[0m\u001b[0m\n\u001b[0;32m--> 271\u001b[0;31m         \u001b[0;34m(\u001b[0m\u001b[0mgamma\u001b[0m\u001b[0;34m,\u001b[0m \u001b[0msstats\u001b[0m\u001b[0;34m)\u001b[0m \u001b[0;34m=\u001b[0m \u001b[0mself\u001b[0m\u001b[0;34m.\u001b[0m\u001b[0mdo_e_step\u001b[0m\u001b[0;34m(\u001b[0m\u001b[0mdocs\u001b[0m\u001b[0;34m)\u001b[0m\u001b[0;34m\u001b[0m\u001b[0m\n\u001b[0m\u001b[1;32m    272\u001b[0m         \u001b[0;31m# Estimate held-out likelihood for current values of lambda.\u001b[0m\u001b[0;34m\u001b[0m\u001b[0;34m\u001b[0m\u001b[0m\n\u001b[1;32m    273\u001b[0m         \u001b[0;31m#TODO: figure out what is meant by \"held-out\" here? (docs used to train)\u001b[0m\u001b[0;34m\u001b[0m\u001b[0;34m\u001b[0m\u001b[0m\n",
      "\u001b[0;32m/Users/adityambpro/Downloads/lda-svi-master 2/onlineldavb.pyc\u001b[0m in \u001b[0;36mdo_e_step\u001b[0;34m(self, docs)\u001b[0m\n\u001b[1;32m    223\u001b[0m                 \u001b[0mElogthetad\u001b[0m \u001b[0;34m=\u001b[0m \u001b[0mdirichlet_expectation\u001b[0m\u001b[0;34m(\u001b[0m\u001b[0mgammad\u001b[0m\u001b[0;34m)\u001b[0m\u001b[0;34m\u001b[0m\u001b[0m\n\u001b[1;32m    224\u001b[0m                 \u001b[0mexpElogthetad\u001b[0m \u001b[0;34m=\u001b[0m \u001b[0mn\u001b[0m\u001b[0;34m.\u001b[0m\u001b[0mexp\u001b[0m\u001b[0;34m(\u001b[0m\u001b[0mElogthetad\u001b[0m\u001b[0;34m)\u001b[0m\u001b[0;34m\u001b[0m\u001b[0m\n\u001b[0;32m--> 225\u001b[0;31m                 \u001b[0mphinorm\u001b[0m \u001b[0;34m=\u001b[0m \u001b[0mn\u001b[0m\u001b[0;34m.\u001b[0m\u001b[0mdot\u001b[0m\u001b[0;34m(\u001b[0m\u001b[0mexpElogthetad\u001b[0m\u001b[0;34m,\u001b[0m \u001b[0mexpElogbetad\u001b[0m\u001b[0;34m)\u001b[0m \u001b[0;34m+\u001b[0m \u001b[0;36m1e-100\u001b[0m\u001b[0;34m\u001b[0m\u001b[0m\n\u001b[0m\u001b[1;32m    226\u001b[0m                 \u001b[0;31m# If gamma hasn't changed much, we're done.\u001b[0m\u001b[0;34m\u001b[0m\u001b[0;34m\u001b[0m\u001b[0m\n\u001b[1;32m    227\u001b[0m                 \u001b[0mmeanchange\u001b[0m \u001b[0;34m=\u001b[0m \u001b[0mn\u001b[0m\u001b[0;34m.\u001b[0m\u001b[0mmean\u001b[0m\u001b[0;34m(\u001b[0m\u001b[0mabs\u001b[0m\u001b[0;34m(\u001b[0m\u001b[0mgammad\u001b[0m \u001b[0;34m-\u001b[0m \u001b[0mlastgamma\u001b[0m\u001b[0;34m)\u001b[0m\u001b[0;34m)\u001b[0m\u001b[0;34m\u001b[0m\u001b[0m\n",
      "\u001b[0;31mKeyboardInterrupt\u001b[0m: "
     ]
    }
   ],
   "source": [
    "print \"Parameters: \\n\\t Num topics: %d \\n\\t Num documents: %d\" % (K, D)\n",
    "print \"\\t prior on weight vectors (theta): %4.2f \\n\\t prior on topics (beta): %4.2f\" % (1./K, 1./K)\n",
    "print \"\\t burn in rate: %4.2f \\n\\t learning rate: %4.2f\" % (1024., 0)\n",
    "\n",
    "rho = []\n",
    "perplex = []\n",
    "\n",
    "olda = onlineldavb.OnlineLDA(vocab, K, D, 1./K, 1./K, 1024., 0)\n",
    "for iteration in range(0, num_iterations):\n",
    "    docset=documents\n",
    "    (gamma, bound) = olda.update_lambda(docset)\n",
    "    (wordids, wordcts) = onlineldavb.parse_doc_list(docset, olda._vocab,False)\n",
    "    perwordbound = bound * len(docset) / (D * sum(map(sum, wordcts)))\n",
    "    rho.append(olda._rhot,)\n",
    "    perplex.append(numpy.exp(-perwordbound))\n",
    "    \n",
    "    if (iteration % 50 == 0):\n",
    "        print \"Training iteration %d\" % iteration\n",
    "        \n",
    "\n",
    "            \n",
    "print \"Done training\""
   ]
  },
  {
   "cell_type": "code",
   "execution_count": null,
   "metadata": {
    "collapsed": true
   },
   "outputs": [],
   "source": [
    "plt.figure()\n",
    "plt.semilogy(range(len(perplex)), perplex)\n",
    "plt.ylabel('held-out perplexity estimate')\n",
    "plt.xlabel('iteration')\n",
    "plt.show()"
   ]
  },
  {
   "cell_type": "code",
   "execution_count": null,
   "metadata": {
    "collapsed": true
   },
   "outputs": [],
   "source": []
  },
  {
   "cell_type": "code",
   "execution_count": null,
   "metadata": {
    "collapsed": true
   },
   "outputs": [],
   "source": []
  }
 ],
 "metadata": {
  "anaconda-cloud": {},
  "kernelspec": {
   "display_name": "Python 2",
   "language": "python",
   "name": "python2"
  },
  "language_info": {
   "codemirror_mode": {
    "name": "ipython",
    "version": 2
   },
   "file_extension": ".py",
   "mimetype": "text/x-python",
   "name": "python",
   "nbconvert_exporter": "python",
   "pygments_lexer": "ipython2",
   "version": "2.7.13"
  }
 },
 "nbformat": 4,
 "nbformat_minor": 0
}
