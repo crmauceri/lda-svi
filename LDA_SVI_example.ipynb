{
 "cells": [
  {
   "cell_type": "code",
<<<<<<< HEAD
   "execution_count": 1,
=======
   "execution_count": 38,
>>>>>>> parent of 4c50b87... Change learning rate and dataset
   "metadata": {
    "collapsed": true,
    "deletable": true,
    "editable": true
   },
   "outputs": [],
   "source": [
    "import cPickle, string, numpy, getopt, sys, random, time, re\n",
    "\n",
    "import onlineldavb"
   ]
  },
  {
   "cell_type": "markdown",
   "metadata": {
    "deletable": true,
    "editable": true
   },
   "source": [
    "## Fetch a corpus"
   ]
  },
  {
   "cell_type": "code",
<<<<<<< HEAD
   "execution_count": 2,
=======
   "execution_count": 93,
>>>>>>> parent of 4c50b87... Change learning rate and dataset
   "metadata": {
    "collapsed": true,
    "deletable": true,
    "editable": true
   },
   "outputs": [],
   "source": [
<<<<<<< HEAD
    "from sklearn.datasets import fetch_20newsgroups\n",
=======
    "import pickle\n",
    "wds=pickle.load(open(\"semtrain.p\",'rb'))\n",
>>>>>>> parent of 4c50b87... Change learning rate and dataset
    "\n",
    "categories=['sci.space','sci.electronics','rec.motorcycles','rec.sport.baseball']\n",
    "\n",
    "newsgroups_train = fetch_20newsgroups(subset='train',\n",
    "                                     categories=categories)"
   ]
  },
  {
<<<<<<< Updated upstream
   "cell_type": "code",
   "execution_count": 3,
   "metadata": {
    "collapsed": true
   },
   "outputs": [],
=======
   "cell_type": "markdown",
   "metadata": {
    "deletable": true,
    "editable": true
   },
>>>>>>> Stashed changes
   "source": [
    "import pickle"
   ]
  },
  {
   "cell_type": "code",
<<<<<<< HEAD
   "execution_count": 4,
=======
   "execution_count": 84,
>>>>>>> parent of 4c50b87... Change learning rate and dataset
   "metadata": {
    "collapsed": true,
    "deletable": true,
    "editable": true
   },
   "outputs": [],
   "source": [
<<<<<<< HEAD
    "from nltk.stem import PorterStemmer\n",
    "\n",
    "ps = PorterStemmer()\n",
    "\n",
    "def stem(sentance):\n",
    "   q = sentance.split()\n",
    "   s2= []\n",
    "   for i in q:\n",
    "       s2.append(ps.stem(i))\n",
    "   return ' '.join(s2)"
   ]
  },
  {
   "cell_type": "code",
   "execution_count": 5,
   "metadata": {
    "collapsed": true,
    "deletable": true,
    "editable": true
   },
   "outputs": [],
   "source": [
    "wds=pickle.load(open(\"msrvid.p\",'rb'))\n",
    "dat=[]\n",
    "for i in wds:\n",
    "    dat.append((i[0]))\n",
    "    dat.append((i[1]))"
=======
    "K = 3 #Number of topics\n",
    "D = len(documents) #Number of documents\n",
    "batchsize = 50\n",
    "num_iterations = 1000\n",
    "kappa = 0.1 #Learning rate"
>>>>>>> parent of 4c50b87... Change learning rate and dataset
   ]
  },
  {
   "cell_type": "markdown",
   "metadata": {
    "deletable": true,
    "editable": true
   },
   "source": [
    "## Set parameters for SVI"
   ]
  },
  {
   "cell_type": "code",
   "execution_count": 56,
   "metadata": {
    "collapsed": false,
    "deletable": true,
    "editable": true
   },
   "outputs": [],
   "source": [
    "K = 3 #Number of topics\n",
    "D = len(dat) #Number of documents\n",
    "batchsize = 16\n",
    "num_iterations = 1000"
   ]
  },
  {
<<<<<<< Updated upstream
   "cell_type": "code",
   "execution_count": 46,
   "metadata": {
    "collapsed": true
   },
   "outputs": [],
=======
   "cell_type": "markdown",
   "metadata": {
    "deletable": true,
    "editable": true
   },
>>>>>>> Stashed changes
   "source": [
    "from nltk.corpus import stopwords\n",
    "sw=stopwords.words('english')"
   ]
  },
  {
   "cell_type": "code",
<<<<<<< HEAD
   "execution_count": 47,
=======
   "execution_count": 41,
>>>>>>> parent of 4c50b87... Change learning rate and dataset
   "metadata": {
    "collapsed": false,
    "deletable": true,
    "editable": true
   },
   "outputs": [],
   "source": [
    "from sklearn.feature_extraction.text import TfidfVectorizer,CountVectorizer\n",
    "vectorizer = CountVectorizer()\n",
    "\n",
    "vectors = vectorizer.fit(dat)\n",
    "vocab = []\n",
    "\n",
<<<<<<< HEAD
    "for i in vectorizer.vocabulary_.keys():\n",
    "    if i not in sw:\n",
    "        vocab.append(i)"
=======
    "    for key in vectorizer.vocabulary_:\n",
    "        if vectorizer.vocabulary_[key] > vocab_mean - num_std*vocab_std and \\\n",
    "            vectorizer.vocabulary_[key] < vocab_mean + num_std*vocab_std:\n",
    "            vocab.append(key)\n",
    "    return vocab"
>>>>>>> parent of 4c50b87... Change learning rate and dataset
   ]
  },
  {
   "cell_type": "code",
   "execution_count": 48,
   "metadata": {
    "collapsed": false
   },
   "outputs": [
    {
     "name": "stdout",
     "output_type": "stream",
     "text": [
      "1129 1075\n"
     ]
    }
   ],
   "source": [
    "print len(vectorizer.vocabulary_),len(vocab)"
   ]
  },
  {
   "cell_type": "code",
<<<<<<< HEAD
   "execution_count": null,
=======
   "execution_count": 91,
>>>>>>> parent of 4c50b87... Change learning rate and dataset
   "metadata": {
    "collapsed": true
   },
   "outputs": [],
   "source": []
  },
  {
   "cell_type": "markdown",
   "metadata": {
<<<<<<< Updated upstream
    "collapsed": true
=======
    "deletable": true,
    "editable": true
>>>>>>> Stashed changes
   },
   "source": [
<<<<<<< HEAD
    "## Get vocabulary"
=======
    "with open(\"stopwords.p\", 'r') as f:\n",
    "    sw = pickle.load(f)\n",
    "\n",
    "def remove_stop(vocabulary):\n",
    "    new_vocab = []\n",
    "    for i in vocabulary:\n",
    "        if i not in sw:\n",
    "            new_vocab.append(i)\n",
    "    return new_vocab"
>>>>>>> parent of 4c50b87... Change learning rate and dataset
   ]
  },
  {
   "cell_type": "code",
   "execution_count": null,
   "metadata": {
    "collapsed": false
   },
   "outputs": [],
   "source": []
  },
  {
   "cell_type": "code",
   "execution_count": 49,
   "metadata": {
    "collapsed": false,
    "deletable": true,
    "editable": true
   },
   "outputs": [
    {
     "name": "stdout",
     "output_type": "stream",
     "text": [
      "1500\n"
     ]
    }
   ],
   "source": [
    "print len(dat)"
   ]
  },
  {
   "cell_type": "code",
<<<<<<< HEAD
   "execution_count": 50,
   "metadata": {
    "collapsed": false
   },
   "outputs": [
    {
     "name": "stdout",
     "output_type": "stream",
     "text": [
      "1000\n"
     ]
    }
   ],
   "source": [
    "print num_iterations"
=======
   "execution_count": 78,
   "metadata": {
    "collapsed": false
   },
   "outputs": [],
   "source": [
    "vectorizer = CountVectorizer()\n",
    "vectors = vectorizer.fit(documents)\n",
    "\n",
    "vocab = remove_stop(vectorizer.vocabulary_.keys()) #, getVocab(vectors)        "
>>>>>>> parent of 4c50b87... Change learning rate and dataset
   ]
  },
  {
   "cell_type": "markdown",
   "metadata": {
    "deletable": true,
    "editable": true
   },
   "source": [
    "## Function to get mini-batch"
   ]
  },
  {
   "cell_type": "code",
<<<<<<< HEAD
   "execution_count": 51,
=======
   "execution_count": 47,
>>>>>>> parent of 4c50b87... Change learning rate and dataset
   "metadata": {
    "collapsed": true,
    "deletable": true,
    "editable": true
   },
   "outputs": [],
   "source": [
    "from random import sample\n",
    "\n",
    "def getbatch(size, iteration):\n",
    "    sample_idx = sample(range(D), size)\n",
    "    return [dat[i] for i in sample_idx]"
   ]
  },
  {
   "cell_type": "markdown",
   "metadata": {
    "collapsed": false,
    "deletable": true,
    "editable": true
   },
   "source": [
    "## Train LDA model using SVI"
   ]
  },
  {
   "cell_type": "code",
<<<<<<< HEAD
   "execution_count": 57,
=======
   "execution_count": 85,
>>>>>>> parent of 4c50b87... Change learning rate and dataset
   "metadata": {
    "collapsed": false,
<<<<<<< Updated upstream
    "scrolled": true
=======
    "deletable": true,
    "editable": true
>>>>>>> Stashed changes
   },
   "outputs": [
    {
     "name": "stdout",
     "output_type": "stream",
     "text": [
      "Parameters: \n",
      "\t Num topics: 3 \n",
      "\t Num documents: 10000\n",
      "\t prior on weight vectors (theta): 0.33 \n",
      "\t prior on topics (beta): 0.33\n",
      "\t burn in rate: 1024.00 \n",
<<<<<<< HEAD
      "\t learning rate: 0.70\n",
=======
      "\t learning rate: 0.10\n",
>>>>>>> parent of 4c50b87... Change learning rate and dataset
      "Training iteration 0\n",
      "Training iteration 50\n",
      "Training iteration 100\n",
      "Training iteration 150\n",
      "Training iteration 200\n",
      "Training iteration 250\n",
      "Training iteration 300\n",
      "Training iteration 350\n",
      "Training iteration 400\n",
      "Training iteration 450\n",
      "Training iteration 500\n",
      "Training iteration 550\n",
      "Training iteration 600\n",
      "Training iteration 650\n",
      "Training iteration 700\n",
      "Training iteration 750\n",
      "Training iteration 800\n",
      "Training iteration 850\n",
      "Training iteration 900\n",
      "Training iteration 950\n",
      "Training iteration 1000\n",
      "Training iteration 1050\n",
      "Training iteration 1100\n",
      "Training iteration 1150\n",
      "Training iteration 1200\n",
      "Training iteration 1250\n",
      "Training iteration 1300\n",
      "Training iteration 1350\n",
      "Training iteration 1400\n",
      "Training iteration 1450\n",
      "Training iteration 1500\n",
      "Training iteration 1550\n",
      "Training iteration 1600\n",
      "Training iteration 1650\n",
      "Training iteration 1700\n",
      "Training iteration 1750\n",
      "Training iteration 1800\n",
      "Training iteration 1850\n",
      "Training iteration 1900\n",
      "Training iteration 1950\n",
      "Training iteration 2000\n",
      "Training iteration 2050\n",
      "Training iteration 2100\n",
      "Training iteration 2150\n",
      "Training iteration 2200\n",
      "Training iteration 2250\n",
      "Training iteration 2300\n",
      "Training iteration 2350\n",
      "Training iteration 2400\n",
      "Training iteration 2450\n",
      "Training iteration 2500\n",
      "Training iteration 2550\n",
      "Training iteration 2600\n",
      "Training iteration 2650\n",
      "Training iteration 2700\n",
      "Training iteration 2750\n",
      "Training iteration 2800\n",
      "Training iteration 2850\n",
      "Training iteration 2900\n",
      "Training iteration 2950\n",
      "Training iteration 3000\n",
      "Training iteration 3050\n",
      "Training iteration 3100\n",
      "Training iteration 3150\n",
      "Training iteration 3200\n",
      "Training iteration 3250\n",
      "Training iteration 3300\n",
      "Training iteration 3350\n",
      "Training iteration 3400\n",
      "Training iteration 3450\n",
      "Training iteration 3500\n",
      "Training iteration 3550\n",
      "Training iteration 3600\n",
      "Training iteration 3650\n",
      "Training iteration 3700\n",
      "Training iteration 3750\n",
      "Training iteration 3800\n",
      "Training iteration 3850\n",
      "Training iteration 3900\n",
      "Training iteration 3950\n",
      "Done training\n"
     ]
    }
   ],
   "source": [
    "print \"Parameters: \\n\\t Num topics: %d \\n\\t Num documents: %d\" % (K, D)\n",
    "print \"\\t prior on weight vectors (theta): %4.2f \\n\\t prior on topics (beta): %4.2f\" % (1./K, 1./K)\n",
    "print \"\\t burn in rate: %4.2f \\n\\t learning rate: %4.2f\" % (1024., 0.7)\n",
    "\n",
    "rho = []\n",
    "perplex = []\n",
    "eb=[]\n",
    "num_iterations=4000\n",
    "olda = onlineldavb.OnlineLDA(vocab, K, D, 1./K, 1./K, 1024., 0.1)\n",
    "for iteration in range(0, num_iterations):\n",
    "    docset=getbatch(batchsize,iteration)\n",
    "    (gamma, bound) = olda.update_lambda(docset)\n",
    "    (wordids, wordcts) = onlineldavb.parse_doc_list(docset, olda._vocab,False)\n",
    "    perwordbound = bound * len(docset) / (D * sum(map(sum, wordcts)))\n",
    "    rho.append(olda._rhot,)\n",
    "    eb.append(olda._Elogbeta)\n",
    "    perplex.append(numpy.exp(-perwordbound))\n",
    "    \n",
    "    if (iteration % 50 == 0):\n",
    "        print \"Training iteration %d\" % iteration\n",
    "            \n",
    "print \"Done training\""
   ]
  },
  {
<<<<<<< Updated upstream
=======
   "cell_type": "markdown",
   "metadata": {
    "deletable": true,
    "editable": true
   },
   "source": [
    "## Convergence visualization"
   ]
  },
  {
   "cell_type": "code",
   "execution_count": null,
   "metadata": {
    "collapsed": true,
    "deletable": true,
    "editable": true
   },
   "outputs": [],
   "source": [
    "import warnings\n",
    "warnings.filterwarnings('ignore')"
   ]
  },
  {
>>>>>>> Stashed changes
   "cell_type": "code",
<<<<<<< HEAD
   "execution_count": 58,
=======
   "execution_count": 86,
>>>>>>> parent of 4c50b87... Change learning rate and dataset
   "metadata": {
    "collapsed": false,
<<<<<<< Updated upstream
    "scrolled": true
=======
    "deletable": true,
    "editable": true
>>>>>>> Stashed changes
   },
   "outputs": [
    {
<<<<<<< HEAD
     "name": "stdout",
     "output_type": "stream",
     "text": [
      "topic 0:\n",
      "                 dog  \t---\t  0.0411\n",
      "               water  \t---\t  0.0377\n",
      "                bear  \t---\t  0.0273\n",
      "               panda  \t---\t  0.0273\n",
      "            drinking  \t---\t  0.0266\n",
      "topic 1:\n",
      "                 man  \t---\t  0.2110\n",
      "             playing  \t---\t  0.1131\n",
      "              guitar  \t---\t  0.0802\n",
      "                 boy  \t---\t  0.0331\n",
      "               plays  \t---\t  0.0320\n",
      "topic 2:\n",
      "               woman  \t---\t  0.2122\n",
      "             slicing  \t---\t  0.0470\n",
      "              potato  \t---\t  0.0376\n",
      "              eating  \t---\t  0.0346\n",
      "             cutting  \t---\t  0.0293\n"
     ]
=======
     "data": {
      "image/png": "iVBORw0KGgoAAAANSUhEUgAAAisAAAF8CAYAAAAOzfv6AAAABHNCSVQICAgIfAhkiAAAAAlwSFlz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\n2PhuAAAAAElFTkSuQmCC\n",
      "text/plain": [
       "<matplotlib.figure.Figure at 0x10fef8610>"
      ]
     },
     "metadata": {},
     "output_type": "display_data"
>>>>>>> parent of 4c50b87... Change learning rate and dataset
    }
   ],
   "source": [
    "num_vocab_display = 5\n",
    "\n",
    "for k in range(0, len(olda._lambda)):\n",
    "    lambdak = list(olda._lambda[k, :])\n",
    "    lambdak = lambdak / sum(lambdak)\n",
    "    temp = zip(lambdak, range(0, len(lambdak)))\n",
    "    temp = sorted(temp, key = lambda x: x[0], reverse=True)\n",
    "    print 'topic %d:' % (k)\n",
    "    for i in range(0, num_vocab_display):\n",
    "        print '%20s  \\t---\\t  %.4f' % (vocab[temp[i][1]], temp[i][0])"
   ]
  },
  {
   "cell_type": "markdown",
   "metadata": {},
   "source": [
    "## Convergence visualization"
   ]
  },
  {
   "cell_type": "code",
<<<<<<< HEAD
   "execution_count": 62,
=======
   "execution_count": 87,
>>>>>>> parent of 4c50b87... Change learning rate and dataset
   "metadata": {
    "collapsed": false,
<<<<<<< Updated upstream
    "scrolled": true
=======
    "deletable": true,
    "editable": true
>>>>>>> Stashed changes
   },
   "outputs": [
    {
     "data": {
<<<<<<< HEAD
      "image/png": "iVBORw0KGgoAAAANSUhEUgAAAYsAAAD8CAYAAACGsIhGAAAABHNCSVQICAgIfAhkiAAAAAlwSFlz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\neaD1UAAAAABJRU5ErkJggg==\n",
      "text/plain": [
       "<matplotlib.figure.Figure at 0x1118d5ed0>"
=======
      "image/png": "iVBORw0KGgoAAAANSUhEUgAAAi4AAAF5CAYAAAC4KaENAAAABHNCSVQICAgIfAhkiAAAAAlwSFlz\nAAAPYQAAD2EBqD+naQAAIABJREFUeJzs3XeYVNX9BvD37LK79I6AvaFgiQFULImJ0UiM3SQqMfYW\no0axBGOJLXYjsXclto2aWNAY7LF3NLEroogKCAhLEdjC+f1x9vu75545t83Mzuzsvp/n4ZmZO3fu\nvTug993vaUprDSIiIqJKUFXuCyAiIiJKi8GFiIiIKgaDCxEREVUMBhciIiKqGAwuREREVDEYXIiI\niKhiMLgQERFRxWBwISIioorB4EJEREQVg8GFiIiIKkaHDS5KqWOUUp8ppZYppV5RSm1R7msiIiKi\nwnTI4KKU2hfAXwCcBWAkgP8CeEwpNbCsF0ZEREQFUR1xkUWl1CsAXtVaH9/6WgGYCeBKrfUlZb04\nIiIiyluHq7gopWoAjAbwlGzTJp09CWDrcl0XERERFa7DBRcAAwFUA5jjbJ8DYEjpL4eIiIiKpUu5\nL6A9UEoNADAWwOcAlpf3aoiIiCpKVwBrA3hMaz2/rU/WEYPLPAAtAAY72wcDmB3xmbEA7mrLiyIi\nIurg9gdwd1ufpMMFF611k1LqTQA7AJgM/H/n3B0AXBnxsc8B4M4778SIESNKcZkEYPz48Zg4cWK5\nL6NT4XdeevzOS4/feWl98MEH+M1vfgO03kvbWocLLq0uBzCpNcC8BmA8gO4AJkXsvxwARowYgVGj\nRpXkAgno06cPv+8S43deevzOS4/fedmUpKtFhwwuWut7W+dsORemiehtAGO11nPLe2VERERUiA4Z\nXABAa30tgGvLfR1ERERUPB1xODQRERF1UAwuVDbjxo0r9yV0OvzOS4/feenxO+/YOuSU/1kppUYB\nePPNN99khy4iIqIMpk6ditGjRwPAaK311LY+HysuREREVDEYXIiIiKhiMLgQERFRxWBwISIi6qQm\nTwYWLy73VWTD4EJERNQJffcdsMcewLHHlvtKsmFwISIi6oSam83jrFnlvY6sGFyIiIg6IQkulTYr\nCoMLERFRJyTBpdIwuBAREXVCTU3lvoL8MLgQERF1QhJc2FREREQVbfhw4OCDy30V1NbYVERERB3C\nRx8Bf/tbua+C0vj8c+C00/KrmrCpiIiIiErq0EOBCy80c7JkxaYiIiIiymzZsvw/K6Ejn+oJm4qI\niIgok7feArp3B15+Ob/PK2Uely/P9rkvvwRuuCG/c5YbgwsREVGZvP12+DFfK1Zk23/vvYEbbzTP\n2VREREQd1rJlwJQp5b6KyvXOO8AvfgGsXGlet7SYx+rq/I6Xb8Vl0aLcbVttBRx9dH7XUUoMLkRE\nlNpJJwE77wwsWFDuK2kftAYaG9Pvf9JJwP33A0uXmtcSYLIEl6+/BqZNC2/LWnGxqyzy/NVXgeuv\nD+/X0gJMmmSObzdnvfVWELpKjcGFiIhSmznTPJbrplVq55wDPPRQ9PunnALU1QFffQW8917y8apa\n77oSNPKpuKy2GjBsmHmeteKy117AMceEt8U1Fd15J3DIIcCYMcA22wCzZ5tFGUeNAi6+OP01F1OX\n8pyWiIgqkdzkpFLQ0Z19tnmMurn//e/mccQIYPHi5P4iElxkJJGM7Mm3qUikDS4PPmgeN9ggvN0d\nYaS16bz7zjvm9ZdfmsehQ4Ff/9o8l/dKjcGFiIhSK2T4bTHdcQew2WbA975X3uuoqzOPixen218C\nigQXt+JyzjkmhBx4oAlDAPDNN8CMGcBaawGrrOI/blxT0csvm++qe/fofebPD79+5ZVwf5eamuD5\n3Xebx3L9G2BTERERpdZegsuBB5qbcblJcBFJlSi34iLBpbnZfLdnnw1cdBGw0UZme309MHgwsOWW\nwLbb5h5PmoomT87td/TMM8Cnn5omnrjmIa1NOAKAPn3M49NPh/f3zfmSpW9PMTG4EBFRau0luPi8\n+KK5kZey47AbXL79Nn7/qKaixkb/db/0UvDc7ZBrh4+rrwYOOCD8/k9+Aqy/vnn+6afx1yXX3auX\neZw3L/y+7++bwYWIiNq99hxc7rjDPH7+ebr9990X2GGHws5ZWxt+PWdO/P5ucJG+Kf/8JzBgQHhf\nrXMrHXan6O++A/73v+C19ENpbATuuy/8uVmzguqMjywZIE1CMupJLFmS+xkGFyIiavfaY3CZOtXc\n0KWfh1sFiXLvvblNIlm555o1K35/t4+LPPrmxlm6NPd77mL1TL344qCJBwhC0dNPA/vsE/6cW62x\ntbQE1/HZZ6bzrdtnxzeKjH1ciIio3StFcFm4EGhoMENv3d/8XbNmAaNHmxv6M8+YbVUJd7aWFuCX\nv0y+jqgRQmPGAHvsYZ5LcJFqhjTJfPSR6VeycGH4s27FJW6dooaG+KrGu+/6j22HmSj2z7ZwoZkU\nT9TXpzvGCy+Yv6NSY3AhImr14ovA2mtX7uJzpZAUXLROF2reftvse8UVwGOPhd/r1890SB06FPjh\nD6OvAQgPA54xI/fadt7ZjMaxzZ1rmmaSRP0cr71mOsMCQVORXNPHH5vHBx8Err0WuP128/rtt80E\nb088YV4vW2Zmr50+Pff4EoIWLoz/t+gGtOpq4MMPg3Ok5Zt/5uuv031WwmIpMbgQEbW68EJz82to\nyP7ZadOCfgIdWVJwOfPMcL+P5mYTErQ2FYKJE03TzsiRwF13ASecAPzsZ7nHkWaft97Kfc+uQiQ1\nYUyZAnzxhZmTRK7drWL4hhJ/+GHu+kHHHBOMuhFuU9FHH5lHaWqRf0sjR5op9aUT7LJlZhK3Rx7J\nPbdUUhYujA+B7nVXVZkh1HfeGf2ZtHxNXhtvnLst61IDxcDgQkTUqpDF5oYNA/bfP3m/o48G/vCH\n/M+T1fTpuSNE8tXSAjz1lHkedUOVOT5kWPBVV5lmmddfB7bfHjjxxOCm6Ks2pGEHD9+N03dtv/0t\n8Pzz5rkbMN05TAATAMaMCW+79trwGj8/+hHwwAPhfd580/w7khFCUU1By5ZFj/Tp29c8Tp8eX/lw\nm2myTGKXNPOxL7yPHg0ceWTwuk8fU70qNQYXIqJWcdWElSuTh7raQ1ejXH89cOml2a8tX+utF0xk\nloYd3txmimuuCZ5HBReptkjFQW68e+4Z9FeRm2ZSX5QodqXBF1yimlekOuKGCV9wSeO558Kv11jD\nhIkvvkgXXHzeeiuo6hx4YPy/qTfeCL/OElzi+tZE6d0b6NbNPO/a1UyGx+BSBEqpz5VSK60/LUqp\nEv5+Q0SVKi64/PnPZrhqXJ+D9jAN/gUX5FYyfBWXJ54wfSncMGb/DHvvHX2cqO9BhtPW15vKhnyX\ns2YFN0upePiCi6+57f33w6/zqbgAwY3dPYd9E29uzr/J76c/NTf2u+5KDi6+4cV1dcD3vx8/w20c\nGQ6dRj6daocMCa6ta1dg0CAGl2LRAM4AMBjAEABDAVxV1isioooQF1wefTT6PflcUlNT0rwXn31m\nyvG+m1oazc3A6acDv/lN8r6yxo7bl8FuQnj44fB79g01qeJy9NHAqaf695Obne/78jWNuHOt2N+j\nr3+KnFOahtzPSZj417/C+wNmQcEePXKPmabf06BBpjPxm28GweWGG0wFJs3xZMhy3HwrPvKd59v0\nlmTwYPM4dGjwb2DhQrPY4xtvlL4ze0cMLgCwRGs9V2v9TeufPIpiRNSe3XMP8O9/F/eYccFFbpD2\n/6Tlt3252SdVXJJGatxwg+m4+vrrydfqk6X8Lz/P2LHAP/4RbI/r+yDNBABw2GHBc63N2jZAeE2b\nuXP936VM0ubOFXLjjcGqx/37B9vlO//gAxMK7BFBvhExcs7ttgtvl+AiFZXevcP7A7l9VsSECf7t\nttpa08yzeHF4FtxDD83d1x0mDQCrr558Dh/778XHHVWVNRjJ8QcPDvfjOvlk05n9k0+yHa9QHTW4\nnKqUmqeUmqqUOlkpVeC6m0TU3uy3H/Dznxf3mGmCi7w3dar5H/prrwXboiouSpkp2eW3bN9v9EDQ\nlJFvk5P0IbHDQxS5iX/1FTB+fLA9LrjYFZcFC4JjPPQQsPXWZuIze0RRXV18cLE7ugLAf/8bPJff\n8gHTLAGY9Xs239zcMMXxx+cef5ddgL/9LXe7W3GR4GKH0aj+QDfc4N9uq642U+YvWhQOLr4Kmtv8\nVQh3pBMAbLFF8HzrrcPv2d+tHRBd/fqZR/n3VFcHrLMO8Kc/mWaxLbcEZs7M1oeqGDpicLkCwH4A\nfgzgegCnAbi4nBdEVC4vvxwsY9/enHJK7m+C5fDNNyZYvPNOsM3XpOMGF9l/6tT44CLv3Xhj8Dyq\nU6pszze4SCXBnl01it3E0qVLMCw3Lri41z1pknmUAPLOO+HQ1LWrP7hI/wp72O6335prGjPGVDfs\n6lFdnVk1OY5UasR55+XuIz+zW3E577yg0hIVKtNobjbBxa24vPpq7r5vvpn/eWyHHZY76+7555uO\nwmLUqPD73/9+8NzucO3aZRfzePDBptLygx+Y1+ecAzz+uHkuI6BKqSKCi1LqQqfDrfunRSm1AQBo\nrf+qtX5Oa/2u1vpGACcCOE4pleJ3EKKOZZttgL32KvdV+F12mb/tv9RknpD77ouvuEiYkfek3L5y\nZbDNFzjkBtazZ3CMpOASFR5++EPg97/PDaPPP29+g88SXOxw9vnnwG67+c995ZXhNXBsRx1l+onI\nJGsnnBCeQr+uzl9t8DUV7bCDCRZ1daZqY8+Yu2KFWTU5zqBB4df2zVnYFZeamqAJ5LnnTEdkrdPP\n4eOuKyTH79XLBLOofh8nnwwcdFB42xZb+MMNYFaKjnPzzabi8bvfBduqqoJ/S599FlRVNtrI/DuR\nn/vqq03lUmy1VfjYBx9s/js9/ngTMqXyVW4p/nm3C5cBuC1hn6huSa/B/JxrA4htiRs/fjz6ODW3\ncePGYdy4cemukogqjjTPtLRkayqyqyNxFRc7uMh+DQ2miWa11cL7JlVcXnjB/LnqqvC5ttvOhJUX\nXjCvX3kFuP/+8Kigq64CbrvNVIiA6I7C7rmPP978mTHDzCzs2nVX/3EAE0Digovt7bdNM0RdnQkV\n9sgeX38QwIQmqQr07Bn/cwBmPpnNNwd2393cvN0mtSFDwv1F1lwzOlyvskruMOrGRmDgwPhh80OH\nBhWnww4DbrkF2HZb0+xiq6sz/+YmTDCdnF0bbhgOK3aoaGoK/i1VVQUrPg8fbkKODAuXpr9DDzXh\n9Uc/CvoqAaYJ6qSTwuetr69HfX19aFtDPjM2FqAigovWej6APEfaYySAlQASV16YOHEiRrk1NSLq\n0CS4LF4cP7ma2zlXPmdPce+7WcpN1w4ugOmIOW9e8Jv7I48EnWTTNBW1tJhrkJunPYx30SKz9owd\nbn7/+/DnfcFl+fLoak9Ss17XrsC66+b23fB1GJ4zxywCeO+94e0PPGCCiFtxiRpltemmwXM3uNih\n4vTTTfMJYEbBvPGGCSlucJH1eXbZBVh1VdOEtOmmwSioAQOC4w4aZDoL25qagpAQpbbWVEEA0zH6\nllv8nWWnTQuqPw8/bK71jDNMYLnrLuDww8N/p/YMvs3Npv/Xvfea8CFNYhJm5N+FBJdbbjGP0gG5\nZ0/znfuazXy/zE+dOhWjR4+O/8GLqCKaitJSSm2llDpeKfU9pdQ6Sqn9AVwO4A6tdWkjIRFVBAkg\nV1mTJhRScfnqK3MjkiYoX8VFDBwY3Nh32y2Y6j3N8FL5nIyqWX/93PlH4vqr+IYRL1iQPKNqlLXX\nzu2Hsny5f56VFSvCfTBsUnFJw+4ILB1JhT05nC8YdO8efZ699jJ9kgYPDje12uFggw1yP9fY6G+m\nmzgxeF5TY/6tnXJKMIrIV6lbffVgiv1ddzUh5/XXg6Yd93u1q3fNzaY5avlyf3CRYOzOFyNhccgQ\n8+iGwfaiQwUXACtgOub+B8C7AP4I4C8AjirjNRFRCitW5D8MuBC+G01TkwkBw4cHwUAqFBJI5GbY\n0hIOLjKbqQzV/utfzaPdx8W29trhGxvgDxXuNgku0izRs2fuasFRMwDPmuUPFAsX5h9c+vYN+pVI\nGLz66qBpytWvn7/PRJbgYgeJuE61vp+ppib6PHYIsv/O7H40l1+e2/+ksTE8sZs05djNT7W1Zt2i\nSy6Jvt448p25laxNNgmeS/CV7yep4iJ22sk8braZeSyko3Jb6lDBRWv9ltZ6a611f611D631Jlrr\nS7TWbbgAOxEVw0knmXb+pEXb3ngj+zwUWe26q1lQ76OPgkqM/M9eJnezm4fs53LTkJuirHxcW+sP\nEt98Y9bvsfm+A3fOE6muSEWntja3L4TvfK++appB7FFUopDg0qePaSoCgB13zH3/3HPDr/v2DW6o\nNumcK9ZbL3efDTc0/Vv69g2qFnEdR30/U1VVeIr83XcPX5uwg4tdGenVCzj22NxrP/xw0yn+yCOD\nvkhucHFl+fccFVw22ih4fvjh/s8kVVx2391c7zrrmNesuBARxZCVeJMmUbPnp0jrxhvNIns+UTdq\nGeobtfqw3NDsiktzc3Azcys5TU3xK/3a7OqK1uY34X32Ce/z4IMmvEgfGl+HUF+Fx54rxZUluEin\nWNGnj7kxvv56sNCiOPdc4I9/DG/r29ffH8StuLjhpm9fM6eKzOEzdSrwv//lBhd7FJLvZ3LDwh13\nBM/tiov9d+b+/ck5hw41IeXii00zy4svmmuUoGD/nPbPttFG5r2DD869vihybe53N2iQ6UDd0pI7\nNFzmbZHJ46IqLqJ3b3OdvpDVHlRE51wiqgxyw7VL+GnZQ1Xd/gqFOqq1sfiGG8yxFyww7fnduwcV\nki5d/H1LfDe9hoZwnxe74iJNBfLbfLdu5meyw04SOfbSpdG/9Z5wgqmaSN8GmS7e5jtf1AgdeS9N\ncNHa/JxDhwbbpFlh881z9+/aNTfIDRrkn/HVrbjIDXrgQNOZ+Z57zOgX+ziDBgXz0Ig//Qn48EOz\ntIHv79UNLvZN3Bdc+vUzTUOjRwcVMXtEmlt9se26a9Dh1T5vnz65k/Al2Xhj8x3YFSKx5pr+z/Tq\nFa4WRVVcxFZbxY8WKzdWXIioaPr3j/6fZxK5QeSzam0ct8IgTSuyYKDcqKNW1r3tttwb38KF4aDl\nuzHOmQP84Q/Bz3PTTen78Ehw8YUR21tvxQcR92YOxM9TcuutyU11QiohEqzi+kNIQDnttGDbWmv5\nm3dqa/0Vlw03NH9X0g/DteGG4ddKBU1wvlFa7lw6drDy9XH55BMTFlZbLbf5KqkzdU1N8gR6Weyz\nT2FzqiRVXH76UzOcvr1icCGikEWL8ls5FjBNF98kTjzg507HHiVtfwC5WfkmIgOCoCI3HV+HWHGb\nM4uUPd39BRf4V8i94ALg0kvD2+JmKbVJeEiaoO/bb+ODy5FH5m6L2//JJ4OOwi+9FH/u7t2ByZOD\nJpa44CI3WfvmveaawfbnngsmZXMrLhJcunePnrgPMKN/3NloR4401bbTT8/dP+7fkd0Mc9xx5ry+\nafUBU/1JsxxAeyLBpb02BSVhcCGikM02CzcBlIodXFauBP78Z38ZPe6G8/HH5v2TTzbBxBcohASb\nNEOP3QCw5ZamP4FIqoxkJSHq44/N46ef+vdbtCg8X0ldXfzNHYgPLkDQCTiqAmXbbbfgfGkqLnZV\no1u3ILjU1poOw4D5GexmDekomzTCRancqe27dAGuvz68No/wra8jTVD2d/izn5lKT9RsxP/5j5nY\nrpIcc4x5jApj7R2DCxGFfP557rb58826R21BblJys162zHS4PPNM/3ozvlEmgOkYKc0Ff/mLeYxb\njVmapvIdRWOvTB0VfvIdTrpihQlWJ59smibWXRfYfvvc/ZYuNTdO6efStWvy5HXSRBZFmg+qqsIh\nUdamcW2/vZlj5IgjwtsldMl1iVdeCSY8k75QNTXBRHx1deHAKqEjKZClNXWqmWH45ptz33v4Yf9q\n08XU1iPi0hg71vx3x4oLEbVbUasWp/Wzn5khnrYXXzT9FNKOlIkiN1qpuJx8cvA/d3dCNSD4zdw2\nebJ/WvS4UGKPBMqH3VfEd24geRbV4cP9qxivWBE0mcloqKefDjoZ2/stXRqMOEpzc3/yyfj3JWRU\nV4f7mrh9SESvXmaRP5m0TAwbFoQOuxPumDFminn7XDU1wYR0y5aFv1sJNFn+ndlzmtgGDjTNR9tu\n6+/03KtXeFhxMRX63yAFGFyIOoF8b87if//L3XbVVaYPRqELJcq1ybTur78e3DDdm9Xf/w48+2x4\n2+TJwB57+I/tCz7CV3HJUiFJanIB/POUuNfgmwTt5puDRffsae2jOs7K8Ndi3Byl8lVdHW4eSTsp\nnE2CVFRHUl9wmTMnPNRaAlFcHyTbN9+E19sRs2aZDrblYq8dRIXhV0jUCRRaFZFwYTfrPP+8eS4r\nB6fV0hJurmhpMVUXe20a4V63b73T6VHLqyJ6jRvABII77wyHujSrKgOmCtDcHJ6ozCdp5EdTk79c\n/913ZrVkIDzyQ4LLu++GKyeyjlCaNY5s9jIHQv4e3IpLIcHFN+wZCJqKmpuD5q5vvjHLF6xcaYYz\nSwUkbXAZNMgfQIcMSf77aktHHmmm+W/Pw4wrBYMLUSdQaMVFbohy8zjvvKD/SNrg8tprpnIzYUJ4\n6vTm5tyRSHLzTBO44uZGcWebdZ1wQvi7SdMhFQjCRFJFJel4URUX37mAILj07Rv+DqWTZVNT7uRj\ncY49NthfFgy0g4s9Ciqf4PLVV+Yxaoi8BJrly01wGT3aDCEHTHPhhhsGQ5PTBpf2qkcPM81/pfYr\naU8YXIg6kPvuM//DdysNhVZchDS92MOlZ85M99kxY8yIpYcfDm+/7jozWZhNrj9N4IoLLnEVF8BU\nkOymoriKiz3pmYSJqEqCSBNckm5kdnAZONA89uoVXlRP+tI0N5u+R9dfH39M2957m8fhw03AmDIl\nuHaZaRUwwWWffYDjj09/7OOPNxPS2ddqO+ccYPx4M2S9utos57DlluF9JLiknbyPOj7OnEvUgdxz\nj3lsaAh3PkwbXE44IXi+cqUp9dujjKTDqH28pKrGxx+HhyW7NyBfx1YJHE1N5pyPPgr84hfB+1VV\nuZ16fZKuzV5bCIgPLv/5jwmFSgU/z0cfxR+/2BWXiRNNU4NUeu691/z8ElxaWkwlxjfUN8oFFwTT\n40sQGzgwWK9G1NQE/77SkgUmowwYYBYrjFNXZzqH++Zioc6JFReiDiRqFthttknXmfSKK4LnEgiO\nPjrY5gsuS5ea4993n/+YG24I/OAHwes0IUqCy9Kl5ub2y1+GOwHbfTkKqbj4gktS2KiuDobrJs2G\nmtRnJmvFpVcvYM89g9e/+pWpikhwke/FHs20117x11pVFfTFkT4nJ5+ce+1p+/+0hX//O/xviDo3\nBheiDsTtRCs++yx6Ho4oK1bkhh1pKrLDx5w5Zo4XdxHAKHHBReZGkcDx2GP+sGSzJ4JzJVVcfE1F\nSTfoqqrge3bnLnEVu+ISxR3aO3KkGT7d0hJ83tex2SX9W9ZfP/e99jD/SFu46abcRSGpfWNwIepA\n5Cbs6xuStVNg376mf4H0eQD8ISLt2jYiKoBUVQVNIL7AETXU9+9/jz5X1oqLUslB4rjjgucyxwjg\nr2i4weUnPwm/tisuUSOQ0gQX36KW229vvlOpSKXpXCudaX3BpaM6/PB0oY7aDwYXogr161+bioRN\nbsK+4JLPqBCXVFzs4/vCQa9e0dPgRzXtdOsW3IB9x4xbHNAlHTyvvjp+v6VLTWVCLFwYX3HRGrjs\nsuC1HQbtDsa//KWZi8Q91lNP5a5fJH8vPXsC//pXeLQQkG4xvbhqiHSM7dEjWFG4f3//iCgJoVGz\nExO1BwwuRG1syZLsVQkfrU11oaXFPK+vDxamE3EVl0JK/XIj81VcfCFjyRIzgsgnquJir13jO2aa\nie7uucfMceKbgAzwhxJ7lNO33xanL8d995mVmQ84wLw+8MDgPbdyJOGnZ0/g5z8PT74GFN5Ec+GF\nZs6XQYPMir/Ll5vKypw50Z/xzSpL1F4wuBC1sV69wrOf5uvVV01Je+JEc4MFgFVWCe8TF1wKmQdD\npm7PMqooatbafCsuv/lN8nWOGAFsvHFuk8+NN5rHpKqT1ukqU6efnq6z6AEHmGPedlvwc7vBxa64\nAGadpSuvzB0WnOQvf8mdVRgwYVAms6uuNt9x167+So7d9EXUXnE4NFEJFGP1YLmpP/+8GR4K5AYX\nCSwbbZQ7zLSQqo+cR8KIHT7iOsBmmck1KbjETd9vH0PU1gYBS5pLamuD8BXFrbgcd1zuNO1//nPy\ntdiqqoJjRFVcZLbX/v3NOfffP3pVaJ8TT8x2TT4ffVS8OX+I2gqDC1GFkFDy/vvBBHBRFRcAuOii\n8Ht2cLn+etMPQyY0SzJwoLnByjBgu6ITF1ySRvXY7OCS9LnevcMrCNvHEHYTi4SDNNUUN7hceWX8\n/mPHmknW0pIw16ePObZbcRH9+5s/peSruKyzjhmVRtResKmIqMjmzi3ub62LFpnfhCUsfPedWTAO\niA8u7m/2zz0XfP7oo8P9LoDw9O6u3r3NTXT+fPM6qY+LyNLJ0w4ujzwSvd+zzwJnneV/zx6BY1d7\nJLikmdJfgsu0af6mF9eUKUEFZvTo5P3l7+WOO8zfgbxOWkm6XF591b/IJlG5MLgQFdkqq2SbFj3J\n7rub6dglLKxYEQQXdxisHVzc8DRpklm0TiovH39sHrfYwsycesst0dfQr58JLi+9ZOZssY8dF9Ik\n6IiDDopeodfunBtnu+38w3/lGMIOLhJY3Gv1VRgefBA480wTurbbLvl6bM8+GwwpjrL66uZRRg8N\nHgz88Y/AtddmO1epDBpUnD5aRMXC4ELk8cQTpnnEDgJpyM3ymWeKcx1ffBH81i8VFzu4uNdnN+HI\nc3um1REjgpv111+blZXfeMPMQWJPy+8aMsQEl8ceM7Pk5ltR+tGPzBwhvuDRrVv6uWaiRtrYx7WD\ny+abA/u99+rsAAAgAElEQVTuC/zud+H9fQtEbrQRcO656a7D1aMHsOqq8fsccIBZT2irrcxrpcy0\n+0OH5ndOos6GwYU6pTvvBB56KPr9P//ZVAuyLuwmHUjTVA7S+OUvg+fSqXT58iC4uJ1f7SAjwWXf\nff3HXrYMuPnm4LV9E7fXBQJMVcDub5FvcJH+HO46OIAJLklDf+V9e/E/3/tAuK9KXZ0ZSt63b3j/\ncqzUq5QJf0SUHwYX6pQOOCBciXDJ0OEso2KAoL+HBJd3381+bTa7Q60MgW5uDjrnuhUXX1NR3Lwk\n113n3+5WRAYPDjer5LtSrwQFNxgBySstA0HwkY6tceTv4I03gm3uiCJ3tBARtX/8z5bIQwJDUnBZ\ntCjcCVaCyyuvmFlZ8+0bsHKl6Utihw4JLgDwzTf+67ODizyPCy4LFwLDhuVudzux9usXbsrwjehJ\nQ4LLhAnA1luH30tTpbJHBdk/69ixuZ2LJQjZgWiLLdJfKxG1TwwuRB4SXKL6uMyZA9x7r/nN/9Zb\ng+2ySB0Q3USTxhlnmOYEqawA4Y6u7vVpbSam83V8TVp3Zs01c7e5TTZrrQWcdprZt6oq2/T7Ngke\nvXqZ78+WpuJihzD772b06Nz+K77gMnZs0Jz3ox+lPy8RtR8MLtSuvPSSuWnaAaAcpKkoKrj87GdB\nMLGHzNpDg//1r/zOvXSpmaYdCK/ObFdcZLtc3xtvRE9ANnx4/PlkVtwon3xiKiU9epjRL4VMQW/3\nKXGrOr4A8dZb4df22kP2341vIUI5nlvJ6dbNfJeyztOMGZynhKiSMLhQuyJTsycNKW1rScHFXjfH\nvgEnrUacxtSpwXO7T8ZNNwXPJbhIU9H06f5j7bijqVLcc0/0+dy5YIBw85cdKLp3TzfS6vzz/UHK\nDi79+oXfk/Mcckiw7fvfBx591Dz/wx/C0/7bzWS+tXUksPgCUb9+QT+eQYOAtdcG1ljDrKhMRO0b\nZ86ldkVumIUuLFeopKYi+8ZuN18UI7jYVRab3SFWzi/XF7UAoUz7v/PO0efzVVzsUOAGlzRGjAD2\n2it32QG7j0rXrubYEs7kvZtvNp13Z8wIrt2dTA8I/934gstqqwGvvx4954srzSKORFR+rLhQuyI3\nzHKP9kjbORfIL7hMnw588EF427x5wHvvRQcXH7m+qJtunz7mMa7jq1v5AOIrLlEuuCB47jYDyVpB\nbkfhr74CLr3UPJfgUlVlVkh2+6y4koLLLbeY2WnZh4WoY2FwoXZFbsTlrrgkNRVFVVzS9s1Zbz0z\n0ZmMDgLMLK2bbGKCS11dOCSsvXbwfIMNgudyffZxbBJc4kYW+VaNtn8+O/TEBZe4/iv//Kf5Geyf\nAzChSWaSjbtGn6Tg0r9/uhWliaiyMLhQuyI3TF/TQClJgErTn8O+SSetPOwaMiR4LhWYhQvNRGn2\nZGl2E4s9LPm550x/kqgJ4WT9m7gg6KtI2N+//VnZ154YT9hNMjvsEH5vzBjTAdbXn0a+6zQLIPo+\nB/iDCxF1TAwu1K7IDdOeur6cooJL1AytWYOL1sDtt5tF7OSYn3+eG1zs89kB4YsvzNDpBQv8x0/T\n5HbooaZJxb0uH6nOrLtu7ntScbnmmqBKs8suyeeXv+uswcX+u2mvCxQSUfFVVHBRSp2mlHpRKbVU\nKfVtxD5rKKX+1brPbKXUJUqpivo5O7MslY5SiOrjEtVUZM90m9ZBBwGHH26GGwOm8uIGF/t8vjDy\nwgu529wwEqW6Ghg1KrwtKrhsvTVw6qlmWLRLApX9nT3wQPJkdWlm+PWx/43Id0dEHV+l3dBrANwL\nwDtReWtAeRRmtNRWAA4CcDCAPJdMo1Jrb8ElzXUUUnER66wT9B955RUzvX6W4OKrUP361/Hn3GWX\noL+MW+2ICi41NWaOGek7Y9tjDzOc2J54r6YmuRoiwaWQigs74BJ1HhUVXLTW52itrwDwTsQuYwEM\nB7C/1vodrfVjAM4EcIxSikO/K0C5moqibtTF7OPyrbdGaNTUBMFFa2DvvbMFF5+k/R55BPjoo+D8\n7vXE8fWZ6dsXePppMy9KFvk2FR18cPCcFReizqOigksKWwF4R2s9z9r2GIA+ADYuzyVRFu78JKU4\n3+LF5ib/z3/mvp/mOuybeFxT0YABpo/I+PG57zU3h8+19db+YcpA/kPF99or+j0JDf37m4rKFVfk\nd4585NtUtMkmZvr+KVPCC0ASUcfW0YLLEABznG1zrPeoncunqeiTT4Avv0y/vz2N/EUXAb17m+cP\nP2xGy8yzYm+aeVzs6lBSU9FTTwF//at5bg8tbm4O9wVZffXozrnyPGuF4v77/Qsqusc69VRg4MBs\nxy7EAQcAu+4aP0lelG7dzPpDRNR5lL35RCl1IYAJMbtoACO01h+39bWMHz8efZzG+3HjxmHcuHFt\nfeoO7bXXTLPEuSl6GuVTcZF+GklDqE85BTjssHBH1NtvD55PmWIWT9xtt2CbXEdzM3DDDcCRR5qb\nvH2uLMHlmWeC5wMGBAv+udWe3r3DweXhh81stEBQcamrix4GnZUEl3IMQx840Px8RNT+1dfXo76+\nPrStId9VV/NU9uAC4DIAtyXsE7ESS47ZANyF6wdb78WaOHEiRrnDK6hgO+1kVhPOElzy6ePyu98B\nu+9uFkB0LV8OXHYZ8Pzz4e12QJrTWpuzmx3k/bvvBo491txk3VWf5VqnTDGLHcb5/PPg+YABwMyZ\nweuf/hR44ongtQSXnXYKL5RoB5d8lxiw54IByhtciKhy+H6Znzp1KkaPHl2yayh7cNFazwcwv0iH\nexnAaUqpgVY/l50ANAB4P/lainQVFJJlFtxCRhVdd5354/t7lF8I3KnvfeexqybyvqweHDeiJ01T\nx6xZwXO3X8Zee5lhxrLApIzGcfvN2MElX08+GX7ta3YaPTpdR9vu3YPKERFRWyt7cMlCKbUGgP4A\n1gJQrZTarPWtaVrrpQAehwkodyilJgAYCuA8AFdrrROL6mn6M1B2pQoucWT9Hze4+Co79k1YrmN2\na73ONydJlurQ118Hz91+JL17h1cnliG+bnOQfJ9RwWXDDYE//9n/noQ6tyOsL7gkVY/Em2+m35eI\nqFAVFVxg5mM50Ho9tfVxewDPaa1XKqV2hZnn5SUASwFMAnBWmoOz4tI2sgSXrE1Faf/OJLi4N9ik\n4CJBSoKL3XE37hhR4iou7nwnErLc40vFJWp00bXXAj/5Sfx1uGsJybHy+W9g+PBwUxYRUVuqqFFF\nWutDtNbVnj/PWfvM1FrvqrXuqbUerLWeoLVOVUthxaVtZBm+m7VzbtpFDSW4zHcaJX3nsVcllvel\nqUk+73bO9S1UKPbYI3huN/u46/ZEBRepuFx+OXDSSdHB5ec/N4+bbBJ9LRIisw49JiJqLyoquLS1\nuJsP5U9usGmCYdamos03j3//gw/MUGkJLq457uB5R1RwsTU3x88Oa48OsrlNRe4x3Kai8eNNB+Oo\n4LLVViZQ+RYyFFFNRe77RETtFYOLJZ91ZiiZ/Jafpkkla8VFZn6NstFGwBprRAeXJG5w8QWd5ub4\nYclRE8n17x9+nbapSL5PN2RkqaK4TUVCFkokImqvGFws+a4zQ/HyCS7FmPLfDitJ0wwMGmRm0HXt\nvLOZpE6OZQ9fFnfdFTx/9NHwxHJAdMUlqY9LVOdcqbTIdvlcluDi2/eaa4Bnn01/DCKicmBwsTC4\ntI0swSVLU5EdTDbbLPd9u9KR9HdbUwP07Ol/77TTTPBZc01gxoz44/TsmVsJiVpHJ23FJW1wyTKT\nri+4/O53pkJFRNSeMbhYGFzahtxoix1cpNlm1Kjkv7tC5hnR2lz7975nAsz990c3DflCSlSzjCw1\nEPXZqKaiI480wWO11czrfCouUddERNTeMbhYOIlW4XbbLfemKBWXNNPTp20q0tp0VAXMDd/un3TP\nPblVj2KEUhny+4tfRB9v5crcc0eFBHselk8/ze1sG9VUtNVWZpu8L01RhVZciIgqAYOLhZ1zC/fI\nI7mjh7JUXNJ0zj3jDODOO4Gbbzavu3ULB4n99svtRJsUSiVcPfRQ9D5pZsZdf/3c4BI1HNzuCLvu\nurnvS7CJCnzyfUqTU6F9XLL69a/NnDFERKXE4GJhU1Fxvf22GYqcpY+LBJao4LJyJXD++cCB1jSE\n3buH/+66dg2mzRdRf7eXXmoeZaHG3Xf3r6D8k58A9vqbvhWJr7rK3xE33xE8Ei6ivjf5juScpW4q\nuusu4OijCz8OEVEWDC4WBpfimTkTGDkSOOqobBUXqS7YwWXePOBHPwLefRf49tvcz3TrFlTLunY1\nN/AFC8L72H+3v/lN8LymBnjhhfDqzL5A0bVrePu//w0cemjuPkC4erLxxrkzB193nfls2qHHURWX\nQoJLlkkBiYjaE/7vy8LgUjwffGAely3LVnGRm7S97yefAM89B2yxRXjKfNG9e7D/j39sJhJ0g8sD\nDwTP7enpa2uBbbcNj0DyrQFUXR3uQ6IUcMst4X2kz8kzz5gmM8BUh9yf+7e/NZ8tdnDhBIpE1Bkw\nuFgYXIpHbrbV1fkFl9deC7Y1NprH5cvNgn4uCQyACTFNTf7KzCabAE89Fa6A+Dq0+gKF1v7tQ4YE\nz6XiMngwsMsu5jN77BEOHptuGn9unwkT/Nvd4JKmc/mee6Y7JxFRe8XgYuFaRWFam6G/+azULDdr\npdKNKnrtNfP9S7i5444gsNiVBF/nWXvCNxlS/M03ufv172/6quQTXKK2v/desN1deVrIz3HKKcDT\nTwfb0zTXaA1ceKH/PfmusgSXiy/2T7RHRFQpGFwsDC5hL7xghv5ed12w7eKLgQ8/TP6sHVKi+rjc\ndhvw/vtm5eUxY4A//Sn8OZnt1h7t9eCDueeyKy4SXHxNSnLDtoOLr1+Ir6lIKX9w6d8fWHvt3Ouw\nSXDZbrvc9YkKkU/FpaoqeqI9IqJKwOBi4QJzYYsWmUe72eXUU81cLUmSgktjo+mg+stfBis8T5oU\n/tzChcA++4RXV/bxVVxmz87dzxdcfKNrslRcgCDoJFVcir0OkASX733PPI4ZU9zjExG1RwwuFgaX\nMPk+3FExacjN2m4qsoPLe++Zx0GDgorKV1+F91mwALjvvuRzuX1cAGDu3Nz9JIjZP4+vuSZrcJEg\nF9X0I2EsywRxaUhwGTbM9M9KM88MEVGl4/yZFgaXsKjgkqZvhtystfYHl/ffN48jRoSbgtyKSxp2\nxUWaQRYtyp2YbvLk3OsvRsXlrLOAtdYyo5585GcqdsVFvs/qak7hT0SdBysuFvZxCXODi7zOElya\nm/3BRZpt6uoKDy6+Pi6LFwM77miGIwPA2WcHTSn5NhXFTSR35JHR70v1qdgVF/57JaLOiMHFwopL\nmBtcpGkiS3BpaspdzRgI+rU0NYWDiz3iJW1wsfuWSPVl8WITKCQs2Csv5xtc8mkyA4LvrdgVl6OO\nKu7xiIgqAYOLpbMEl2HDgNNPT94va3D5/PPguS+42BWXqOBiD72OujG7nWDtUUB2xaW2Nggm9krM\nScHluOOAVVcNb5P1gPJx3nmmU7N0oi2W00/vPP9miYgEg4uls5Tep00DLrggeT83uEjwiAou224b\nPE9qKooKLoCZKC6OHUKAcBOMBJcVK0xwkTlgslRcNtssvNbRRRcBV1wRf01xBgwwc7FEfW++9Y2I\niMiPwYUiRVVcoppM7BWZ7YqLL7jInCO+4DJ+vJl9NkpccLE76tbWBseOCi5pmr0OOii8wGIxTZ8O\nfPxx2xybiKgj4qgiS2epuADp+mtkaSq6/fZwM8/ll5vHpqYgWKStuPg6sXbpEnw+TcUFCAcXe3vS\nqCJXsTvV2tZZp+2OTUTUEbHiYukMwUVGuNg38ihZmorOOCP8Wma9jaq4xAUX32y2diXFrX6kCS72\nyKOkpiJXWwYXIiLKhsGlk5HAYAeBKFkqLlE39+bmYP8VK4BrrjGPbnCxp6GvqcntdJo2uNjv1dYG\n87jYHXrt4DJ6tP+6bb4gRURE5cHgYukMFRcZbhxXcdHafBfFCC5NTcH3+sgjwLHHAtdfnxtc7Ovx\nHcseOeR2ZrX3r6sD/vhH87y2NugwPHRosI/8PLffnm7dHlZciIjaDwYXS2cYWrpkiXmMCy4nnmia\nUKKainz9Y9IEF1mxubExN7jYFZEuXXLnPLGPP2BA9HtdugQ/W20tcOCBZj6YQYOCfdwJ9aLIfnbF\nZcgQs/AkERGVB4vgls4QXNJUXP76V/OYpuJy001mBFBcU5F8TtYKqqkJmnDs4CIdcGtqgEcfBfbc\n04y6AcLBJi64VFeHg4tSuU1LG2xgHpM6xvboYYKeHdR8q04TEVHpsOJi6QxNRVJxSdPHRb6PuM65\nRx5pVm+Oq7i4waW2Njxc+rvvTDCR5qCaGmDTTc3cJyJtcLErLlF9U3bYwQSiH/7Q/75I04GZiIhK\ni8HF0hkqLtJEY4+yieI2DcX1cXFHBglfcKmpCY4twaVHjyCc+Kbpt/u4uLPYRgUXexSTK80w5Cuu\nADbcMHk/IiIqHQYXS2eouNgrCieRodOFBJeopiJ7Zt2lS03YkHAilRJ7vha74hIXXGpqgmqSvTZS\nPvbdF/jww8KOQURExcXg0skkzX5rk34owm4q+uST8DGiZn+1g4tUtFpawk1FElwGDjTbJIjYI37S\njipSKujYW2hwISKi9ofBxdIZKi5ZVniW4CLfix167r47/TmlcmO/lhD0wQfA3LkmuKy5ptkmQcSu\nstjPpbNt167ApEm5/WvkNYMLEVHHw+BiYXAJ9/OJCi5VVcBnnyWfa7XVzKPbjNTYaEKFNAm9/rpp\n3pHgIusY2U1FdsVF+r78+MdmHSEGFyKizqOigotS6jSl1ItKqaVKqW8j9lnp/GlRSu1T6mttr6Lm\nYlm+3Mxoa683JMFFttlNRWlCwcSJ4eMIqbjYnWd79AAOP9w8X3dd8zh0KHD++ea5XXGxV4AGckcP\nMbgQEXVceQUXpVS1UupkpdRrSqnZSqlv7T/FvkhLDYB7AVyXsN9BAAYDGAJgKIAH0xy8M1dcevc2\ngcG+2Uvlw1dxsQNOFGnSkSHYoqkpN1T06AGMHGkqPqusEmzfaSfzaAeXbt2AYcOAM880r90Qtvnm\nwK9+BZx8cvI1EhFRZcm34nIWgBMB3AOgD4DLAdwPYCWAs4tyZR5a63O01lcAeCdh1wat9Vyt9Tet\nfxoT9m89fuHX2J6tXAk8GBHhmpqAr78OV0HciosdXFauNMHk2mvDx7GHWbvzrQi7j4uImjNFAo49\nk25VlekMvP32/s/U1QH33hs0VRERUceRb3DZH8ARWuu/AGgGUK+1PhzAuQC2KtbFFeAapdRcpdSr\nSqlD0n6ooweXSZOAhx82z6N+Vl9wkYqL3VTU0gJsvXWwFpD4+9+D51HBxW2SApKDC9cLIiIiIP/g\nMgRB1WMJTNUFAB4BsEuhF1WgMwHsA2BHAP8AcK1S6tg0H+zowUXWCgKif1ZfU5FbcVHKPK+uDvcv\nWWed8JpAdnCRoc72cY8/PtgWFVyGDzePv/qV/30iIupc8l2r6EuYviNfAPgUwE4ApgLYAsCKLAdS\nSl0IYELMLhrACK11xEwhzs5an2+9/K9SqgeAUwBcnfTZt98ej913Dy9sM27cOIwbNy7NqdudpiYT\nLqQ/ix1WovrzxFVc3D4uVVXh4KJ1uO+MPQ/LJZcAa6wBHHcc8OSTZtsWW5g/r78eniXXtsoqHT9Q\nEhFVivr6etTX14e2NTQ0lPQa8g0uDwDYAcCrAK4CcKdS6jAAawKYmPFYlwG4LWGf6ZmvMPAagDOV\nUjVa69hxJptuOhGTJ48q4FTtS20tcPDBwG2ebzdLcPGNKmpsNMd3g4s9I6/daXbzzc36Q/ZMtDU1\nwVBpdzZcIiJqf3y/zE+dOhWjR48u2TXkFVy01qdaz+9RSs0AsA2AT7TWD2c81nwA8/O5jpRGAliQ\nFFrMtbThVZTJpElBcLF/vjRNRXbFpVu33IpLdXW478nKlblLCRxxBHD//UGTj43BhYiIssp3OPR2\nSqn/Dz1a61e01pcD+LdSaruiXV3ueddQSm0GYC0A1UqpzVr/9Gh9f1el1GFKqY2VUusppY4G8EcA\nV6Y5fqUPh168GNhyS+CLL4JtdpDIt6mopcUEDAk1dnCJq7gAwI03AnPm+DvXdukSnKNfv/ifjYiI\nCMi/c+4zAHy/I/dpfa+tnAvTl+YsAD1bn08FIDWqJgDHAHgJwFsAjgBwgtb63DQHr/SKyyuvmP4i\nt9wSbItaTDGfPi5CKbPN7ePiq7jEXUOxKy5btYfxbERE1Kby7eOiYDrNugYAWJr/5cTTWh8CIHJ4\ns9b6MQCP5X/8fD/ZPkifEq2DAOLOKiuyNBVddll4nywVlzhdugTBxZ7ePx8LF4aXBSAioo4pU3BR\nSt3f+lQDmKSUskcQVQP4Hky1oyJVelORHVwkdLjBQkT9rCNHBs/dqfrFO++Y4cuFBpeaGjNMesmS\ndKtVx+nTJ3kfIiKqfFkrLjLmSQFYDMC+tTUCeAXATUW4rrKo9IqLTUJH1j4uNplvxfXuu+ZxxIjo\nzrl9+/o/+9JLwDbbmOddugDPPGOCEBERURqZgktrUw2UUp8DuExr3WbNQuXQUYJLVMXF3SeJu6qz\ny1dxGTLE9DW5/HL/Z+x+KDU1wNprmz9ERERp5Dsc+hylVBel1I4A1gNwt9Z6sVJqVQCLtNZLEg7R\nLlV6cLGbWyR0ZG0qyqK6OlzRWbkS6N4dePnldNcYFaqIiIii5HXrUEqtBWAKzIRzdQCegGk6mtD6\n+rfFusBSqvQ+LqKQPi5ZVFeHg0jW4Mf1h4iIKKt8h0NfAeANAP0Q7uciM+pWpI5UcfH1cbElhZju\n3XO31deHhy1XOf96GFyIiKit5Vus/yGAbbTWjSo8HORzAKsVelHlUunBxWY3Fc2cCcyaFR1Wmjxz\nCg8YkNs5d/vtgTXXBL791rx2Q1HWKg6bioiIKKt8Ky5VMMOfXavDNBlVpEpvKooaDj18ODBmTHhy\nOTvE+IKLb0I4d8FDN7iw4kJERG0t3+DyOIATrNdaKdUTwDkAHi34qigvUcFFKid2QJGQpjXw1FO5\nx/IFF6XC4cRtKsoa/Hr0yLY/ERFRvsX6kwA8ppR6H0BXAHcDGAZgHoBxcR9szyq94iK0Bla0Tg1o\nt+TZFZeVK80SAf/8Z+7MuIBpKrJ99VVwbFFoxWXgwGz7A8EcMERE1DnlOxz6y9bFDveDmS23J4Bb\nANyltY6Yb7X9q/Q+LnZIkRAW1ZdFa2DrraOP5VZcVl01+Jxwg4vsk2TyZKBnz3T72pYtY78YIqLO\nLu/bgNa6GcCdRbyWsqv04GJraTGPUcFF3o8SNfOtfTy3qeiZlMtr7rZbuv1cXbvm9zkiIuo48g4u\nSqkNARwHYETrpg8AXK21/rAYF1YOld5UJMFL6+TgYjcb+fiGQ9vnAHIrLqtV7HgyIiKqFHl1zlVK\n/QLAuwBGA/hv659RAN5pfa8iVXrFxb5+CS52QLGf+0YSiSFDgG7dks8hweXkk4F//CPbtRIREeUj\n34rLJQAu1Fr/yd6olDqn9b1/Fnph5VDpwcUeKSTP7YBiP3/vPf8xtt3W9EG56y7/+77gcuml+V0v\nERFRVvkOhx4K4HbP9jtb36tIlR5cJIzYTUVRwSXK5pubjrlpKi5uHxciIqK2lu+t5z8ws+e6fgDg\n+byvpszK2celoQG45Zb8Pz9nDvD73wevfcFlWYrxXhJY5HHnnYHXXw/ej+vjQkRE1NZSNxUppXa3\nXk4GcLFSajSAV1q3bQXgVwDOKt7llVY5g8v48cBttwE//zkwNGXNasQIM6T51luBefOC7VFNRUtS\nrNktI3ckuGyyianCCPs7YnAhIqJSy9LH5UHPtt+1/rFdA+D6vK+ok1q61DzKxHFpfPih+XPrrbnV\nFF/F5csvk49ZW2seJbi4o4/YVEREROWUOrhorTv8baqcFRcJDI2N+X1eFlUEwn1c7ON98UX660gT\nXFhxISKiUuvwYSSLcnbOlQUH03Sg9bGDC+AfDh0Virp0CWbddYNL3ER1DC5ERFRqeQ2HVkr9PuIt\nDWA5gGkAntNaJ8zP2r5UcnCxm4ouv9zMxeJz4IHA++8Db7wRbDvnHDN53MEHB8Glrs48suJCRETt\nSb7zuIwHMAhAdwALWrf1A/AdgCUAVgEwXSm1vdZ6ZsFXWSLlbCqS4JKlj4vN7eMye7Z/v6OPBu67\nLxxcvvwSGDQofB0SStyKS9yU/0RERG0t31vPBACvAximtR6gtR4AYAMArwI4AcCaAGYDmFiUqyyR\n9lBxkSaf+fODFZl97GtdsCD9OkHdu+eGkc02Cyo9ch2ymKG7LysuRERUTvkGlwsAjNdafyobtNbT\nAJwM4AKt9ZcA/gBg28IvsXTaQ3CRisvWWwOrrx69v92nZe+9getTjuPq3j1cNXn6aeDII4PgIk1F\nUoH5wQ/Cn2dwISKicsq3qWjViM92ASC9K74G0CvP45dFOYOLBAYJJJ98Yh4bGoA+fXL3t5uGpk1L\nf55u3cI/5+DBpmOudNyV6xg40FRy3HNzODQREZVTvreeZwDcoJQaKRtan18H4OnWTZsC+Kywyyut\n9tDHRYLLxhubx3ff9e9vB5c087MIt6lImoQkuMh1AEDfvsFoI8GKCxERlVO+weUwAN8CeFMptUIp\ntQLAG63bDmvdZwmAkwq/xNIpZcXl44/Dw5MlQEhwkRlsozrrppm+38dtKnKDi1RcotjfkRtqiIiI\n2lpeTUVa69kAfqqUGg7TKRcAPtJaf2Ttk7K7aPtRyuCy4YbAUUcBJ59s+pe4wUWaYaLmXvnuu/zO\nW1sb/jmlwnLCCcDcucCPfxz/eTv05HsNRERE+Sqol4LW+kMADwN42A4tlapUTUUSHKZOBYYNAzba\nKPZHhu4AACAASURBVDj3UUeZRwkuUfO6pKm4dPHEUqX8TUX9+gHXXput4pJm7SMiIqJiyju4KKUO\nVEq9A2AZgGVKqf8ppQ4o3qWVXqkqLhIc7KYWd9hxUsUlTXDp3t2/3ddUlJb9HS1enO2zREREhcor\nuCilToTpiPsogH1a/0wBcL1SanzxLq+02ktwUSo5uKRZ00iCi/SXEQwuRERUqfKtuBwH4Git9QSt\n9eTWP3+AWSk6ajmAdq8YweXxx03wmDcveh+ZRt8eTuw2U/maiiZPDo6bZmkAd90h37kKCS7bbJPt\ns0RERIXKN7gMBfCSZ/tLre8VnVJqLaXUzUqp6Uqp75RSnyilzlZK1Tj7raGU+pdSaqlSarZS6hKl\nVKqfsxh9XCZPNo9xKzFLdcUOLlEz1DY2mg67zc3AHnuYieGWLcsNLr45VaSi4w5b9nXOTUs+29AA\n7Llnts8SEREVKt/gMg2meci1L4BP8r+cWMMBKABHANgIZr2k3wI4X3ZoDSiPwoyW2grAQQAOBnBu\nmhMUo+IiYSHuWGn6uDQ0mMemJlMx2W234L0jjsgNLr5FFe3gsuaa/nPlW3FxqzhERESlkO/MuWcB\nuEcptR2AF1u3bQtgB/gDTcG01o8BeMza9LlS6jKY8PKH1m1jYQLO9lrreQDeUUqdCeAipdTZWmtn\nrWP3HMW83uj3fMHFrfYsXGgepS/LlCnBew89BOy8c/L5ZFt1NfDBB0ETlX2urJPI2cckIiIqtbwq\nLlrrfwIYA2AegD1b/8wDsKXW+oHiXV6ivjCT3omtALzTGlrEYwD6ANg46WDFaCrKUnGJaypa0Lrm\ntq8TbrduuRUX3/nkmNXVpqNu7965+2adRE4+y8nniIioHPKtuEBr/SaA3xTxWjJRSq0P4FgAJ1qb\nhwCY4+w6x3rvv219XRJGCm0qkjlSpMnI1rNnuuDS3Gym7T/nHP/588HgQkRE5ZQ6uCileqfdV2u9\nKMNxLwQwIe5wAEZorT+2PrMagH8DuEdrfWvacyUpVcVFpvGPayoSs2f7P582uEjlxlbIz1nOhSiJ\niIiyVFwWwoSIOKp1nyw9IC4DcFvCPtP//wRKrQqzkOMLWuujnP1mA9jC2TbYei/W8uXjsfvu4eWQ\nx40bh3HjxiV9NEfcDX7ddc1jXMVFuMFl772B//wn3XDoqH3k2v7xj+RjuMq5ECUREZVXfX096uvr\nQ9safE0DbShLcNm+LS5Aaz0fwPw0+7ZWWp4G8DqAQz27vAzgNKXUQKufy04AGgC8n3T82tqJmDx5\nVKrrjpKmqcjdF4gOLnOchq8+fczwaLfvS1TFxUfOteWWydfoYsWFiKjz8v0yP3XqVIwePbpk15C6\nc67W+ln7D4CVMEOTLwIwrXXbmgAK6EERrbXS8h8AM2BGEa2ilBqslBps7fY4TEC5Qyn1PaXUWADn\nAbhaa51Yo4i60We7TvPo3uAbGoDjjgsHjjQVl/lOpOvb1wSXtE1FPlI1yWdkEIMLERGVU75T/v8C\nZrTOMgAjAdS1vtUHwGnFubQcPwWwLsyQ65kAvgYwq/URAKC1XglgV5jw9BKA2wFMghm+nai5Oeh/\nUij3Bj9xInD11cBTTwXb7OCyYoV/Mjh3Bea+fU3wWLbMPI86H5AcXLLO4RJ1HiIiolLJdwK6MwD8\nVmt9BAD7d/8XARTW1hJBa/03rXW186dKa13t7DdTa72r1rqn1npw67IEqXtmFNpUF9VU5BuNYz9f\ntgyoq0OOpUvDryWsLF4cDG8GctcjAqKrOAwuRERUqfINLhsCeM6zvQFmbpWKJRO/5SuqqcgXXOw+\nLlHBxVdxAYBFi4K1iIBwJScJm4qIiKhS5RtcZgNY37P9B7BGAFWiYnWOjgouUZO/LV/uDy7uKB4J\nLvPnm6alKVOAadOADTdMf21yTN/6Rmk/S0REVA75BpebAFyhlBoDM/x5VaXU/jBDm68r1sWVQ1tV\nXOSGbzffuMHF19zjHrtXL/N88mQTXMaOBdZbL9s1FhJcTmurHkxEREQp5BtcLgJwN4CnAPSEaTa6\nGcANWuurinRtZVFoxSWpqSgquEQ1Fdnq6sKLG2Zd2Vkcc4x5TApKPuecw+YiIiIqn7ym/NdaawDn\nK6UuhWky6gngfa31kmJeXDm0dR8Xu6nFrnj4morq6sKjnGpqwmHD7uNiW7AA6Ncv+hp/8QuGDyIi\nqkx5r1UEAFrrRqSY2K1S9O4NzJ1b2DHc4DJtGjBrVnJT0bJlZg0i28iRwCuvBK+rq8PhJqri0rei\nu0cTERFFy7epqENaZRXgq68KO4Y7HHrYMGC77YLX9twq7jwubtPN6quHX1dXhyewy7epiIiIqFIx\nuFgGDwa+/LKwY0gYcUffJDUVNTbmNhW5w5Wrq4GNNw5eM7gQEVFnw+BiGTwYmDmzOMfKOqqosTG3\nz4r9PmCCS5cuwOmnm9cMLkRE1NkwuFgGDMhd1DArCRvurLUSZA44IHdfwF9xcYcrSwVGAktU51wA\n+PvfgVdfTXfNRERElaKgzrkdTZcuhS+0mNRUFLWtsTF3Cv6o4CKBJW448777Jl8rERFRpWHFxVJV\nFb2+T1pRwcU346y9raUlN6gkBRd7ThciIqLOgMHFUlUVDhMNDblrBSXJUnFx95FgsvbawfX4ji1N\nRflMIEdERFTJGFwsbsWlb19gk02yHSOpj4vNF1w+/RS4++7wsdxjpGkqIiIi6ogYXCzV1bmB47PP\nsh0jS1ORe66qKmDddYFRo4AddshdF0iCS5rOuURERB0RO+dalCp89eNiNBXV1QFPPpm7v1txced5\nISIi6uhYcbH4Ki5ZFdpUFIfBhYiIOjsGF0tbjiryDbN2z+UOh3a5TUVucNl/f2CttdJdJxERUSVi\nU5HFHVWUDwkukyaZvipyzDffzN33qafCr3v3jj+2BBcZbeQGlzvvzHy5REREFYUVF4uEDF+zDmDe\nu+wy/xDpKVPMJHISXJ58Evj+94Nw8dZbyedPG1wkXLnDpYmIiDo63vosEjKiqi4vvwyccgpw0UXh\n7TNmADvvDJx7bu40/ln6oaQNLtLExD4uRETU2TC4WKL6p7iWLAm/XrHCPM6YkbtvWwQXuT4GFyIi\n6mwYXCwSBKI66EqnWLejbWNjsN1tZkrqcGvLWnFhUxEREXU2vPVZJAhEBRcJIW5wkT4vvuBSaMXl\nnnuACy4wz+XY/fubxyFD0h+biIioI2BwsUhwiWoqkqakpqbw9qVLzWNLS/q5WVZfPXebL7jssw8w\ndqx5LsFl7FjgscfMe0RERJ0Jg4slquJy2GHh7VkqLr4RStttFzQ72Xr18l+XVHrkWEoBO+2Uu5YR\nERFRR8fgYokKLrfeah4lsLgVl7jg0tCQe55nn/UHmp49/dflBhciIqLOisHFktRUlKbi4n7WDTnC\nd45u3fz7SnMTgwsREXV2DC6WuM65CxcC771nnrvBRfq4LFuWPlz4gkvXrv59s4xMIiIi6sh4S7RI\nZWPWrNwROz/8IfDuu+Z5VFNRU1P64OLbr67Ovy+bioiIiAxWXCzS2XXUqNz3JLQA0U1FvlFFUXz7\nRXW2ZXAhIiIyWHGxpJ1zRSous2cDTzwRHg5dSFNRFAYXIiIigxUXS9qZaKXist9+wIEHBhWXuAUa\nXQwuRERE2VVMcFFKraWUulkpNV0p9Z1S6hOl1NlKqRpnv5XOnxalVKqp2rIGl0WLzKOsXZSl4pIl\nhDC4EBERGZXUVDQcgAJwBIBPAWwC4GYA3QH8wdn3IABTWvcHgIVpTmAHl7iQIE1F0rQkAabQPi5R\nGFyIiIiMigkuWuvHADxmbfpcKXUZgN8iN7g0aK3nZj2H3cdl2bLo/dzVmSW4sKmIiIiobVVMU1GE\nvgC+9Wy/Rik1Vyn1qlLqkLQHs0f1SIfbuP2kQmNXXBhciIiI2k7FVFxcSqn1ARwL4ETnrTMBPA3g\nOwA7AbhWKdVDa3110jHtiktccHH3l2n9szQVZQkhafveEBERdXRlDy5KqQsBTIjZRQMYobX+2PrM\nagD+DeAerfWtoZ21Pt96+V+lVA8ApwBIDC7Frrh07x6MOHJlqbjI+VhxISKizq7swQXAZQBuS9hn\nujxRSq0KU1F5QWt9VIrjvwbgTKVUjdY6YuUg4/LLxwPoAwA4+mjZOq71TyBtH5devZKDy+9/D1x5\nZYqfAgwuRERUXvX19aivrw9ta/CtJtyGyh5ctNbzAcxPs29rpeVpAK8DODTlKUYCWJAUWgBgwoSJ\n2HdfM23uuecC22/v30/WMpLgsnSpee42FfXsCcyZ4z+GhJCLLwYOOSR6nSLfZ4iIiMph3LhxGDcu\n/Mv81KlTMXr06JJdQ9mDS1qtlZb/APgMZhTRKqq1DUVrPad1n10BDAbwCoDlMH1c/gjgkjTnsPuS\nLIwZQC3Bxd6/V6/cpqLevaOPYVdtvv/9NFfH4EJERFQxwQXATwGs2/pnZus2BdMHRrrVNgE4BsDl\nre9NA3CC1vrmNCewg8iMGdH7uRUXwAQXd3XoqEUTgdzmpjQYXIiIqLOrmOCitf4bgL8l7OPO9ZKJ\nHSKmT4/ez1dxWX114MMPw01FXWK+Xdkvy4ih7t3T70tERNQRcaCtxR5VFNdh1ldx2Xvv3KaiuOCS\ntXoyaRLw0kvZPkNERNTRVEzFpRTSNtvIWkX2/l26tG1wOeigbPsTERF1RKy4WNI22/iaiqqrc4dD\nxwUXIiIiyo7BxZI1uNgVl6qq3OHQDC5ERETFxeBiKbTi4jYV1dQU79qIiIiIwSXEF1yUAgYPDm/7\n+muzfcGCYJuvqUgqMlmGPBMREVE0BheLL7hcf3105eT998Of1Rq46aZgmzQVMbgQEREVB4OLJari\nYg+Tdt8TvnAiwYV9XYiIiIqDwSVBVVW6vi++4CKVGlZciIiIioO1AIsElJoaoKl1Sca4iouoro6v\nuPjee+MN4K238r9WIiKizojBxdKjB/Dgg8A33wBHHmm2xVVcJNBUV/v3iWsqGj3a/CEiIqL02FTk\n2GMPYP31g9fFqLiwjwsREVFxMLh4bL89MGyYeZ6mj0tVVfamIiIiIsqOwSXCD35gHtNWXOKaihhc\niIiIioPBJYIEEaWiKy4y2VxUU5GMKsq6oCIRERH5MbhEkCpLXFORrEsU1VQk2+z1i4iIiCh/DC4J\n4pqKmpvNY1LnXFZciIiIioPBJUKaiosEl6h9pKmIFRciIqLiYHCJIMElTcXloYfiKy6ymjQREREV\nhsElQpqKS2MjsNlmwJZbxgcXVlyIiIiKg8ElQpqKS2NjOOC4GFyIiIiKi8ElQto+LvIeO+cSERG1\nPQaXCHbFJW7mXHu9IhcrLkRERMXF4BLBrrjEzZwbV3GRUUXsnEtERFQcDC4RslZcfPtwAjoiIqLi\nYnCJkLbiEtdUJHr0CJ7vsUfh10ZERNRZdSn3BbR3SRWXuKaibt3M4667AjvuCOy3HxdcJCIiKgQr\nLhGiKi5u8JD3GhvD21taguACAPvvz9BCRERUKAaXCFF9XLp08e/Xq1d4e9wwaiIiIsoPb60Roiou\nbnCRcDJsGDBvnv8YnMeFiIioOBhcIkRVXGpr/fsBwIAB4fdYcSEiIiou3lojpA0uaTrusuJCRERU\nHAwuEaKaiuIqLi4GFyIiouJicImQT1ORi01FRERExVVRt1al1ENKqRlKqWVKqa+VUrcrpYY6+6yh\nlPqXUmqpUmq2UuoSpVTmnzNqdei6uvB+aWbVZcWFiIioOCoquAB4GsCvAGwAYG8A6wG4T95sDSiP\nwkystxWAgwAcDODcrCeyw4odTmT9Id9+LlZciIiIiquiZs7VWl9hvZyplLoIwANKqWqtdQuAsQCG\nA9heaz0PwDtKqTMBXKSUOltr3Zz2XHYgievj4oaT//0P6N49/B4rLkRERMVRsTUBpVR/APsDeLE1\ntACmyvJOa2gRjwHoA2DjbMc3j1qHw4nbVORWXDbdFFhvPfOcwYWIiKi4Ki64KKUuUkotATAPwBoA\n9rTeHgJgjvOROdZ7Gc5jHt3gwlFFRERE5VP2piKl1IUAJsTsogGM0Fp/3Pr6EgA3A1gLwFkA7gCw\nazGuZfz48ejTpw8A4MMPzbYnnxwHYNz/7xM1c65PXKghIiKqNPX19aivrw9ta2hoKOk1lD24ALgM\nwG0J+0yXJ1rrbwF8C2CaUupDmL4uY7TWrwKYDWAL57ODWx9nJ13IxIkTMWrUKADAGWcA558P/OQn\npt+KcMMIO+cSEVFnMW7cOIwbNy60berUqRg9enTJrqHswUVrPR/A/Dw/LustS8+TlwGcppQaaPVz\n2QlAA4D387u+cFOPG1Q4cy4REVHplD24pKWU2hKmmvICgAUA1ocZ5vwJTGABgMdhAsodSqkJAIYC\nOA/A1VrrpmznM49aAytX5m6Pem1jcCEiIiquSmrM+A5m7pYnAXwI4CYAbwP4sYQSrfVKmP4uLQBe\nAnA7gEkwfWEysYNLXMWFwYWIiKh0KqbiorV+F8AOKfabiSJ01k1bceHMuURERKVTSRWXkipmxYWI\niIiKg7fWCHYgiQsuzTFz8TK4EBERFRdvrRHSNhU1NkYfg31ciIiIiovBJYIElJUr4ysuLS2IxOBC\nRERUXAwuEdJWXOKCCzvnEhERFReDS4QdWscvbbRR4RUXIiIiKo6KGQ5daltvHQSWuIoLO+cSERGV\nDm+tKbCPCxERUfvA4JKCXXHZdFNgyRLg8cfNawYXIiKi0mFTUQoSPG69FTjwQKC6Gujd22yLayqK\nm5yOiIiIsmPFJQUJLptuakILAHRpjXysuBAREZUOg0sK0lQkoQUAamrMI4dDExERlQ6DSwoSPPIN\nLkRERFQcDC4p+CouaZqKBCsuRERExcHgkkJcxYWdc4mIiEqHwSUFVlyIiIjaBwaXFArt48LgQkRE\nVBwMLikwuBAREbUPDC4p5NtUJPt369Y210VERNTZcObcFPLtnNuvH3DVVcB++7XdtREREXUmDC4p\nFNI599hj2+aaiIiIOiM2FaXgq7hkGVVERERExcHgkoKv4iIdbxlciIiISofBJQVfxUUwuBAREZUO\ng0sKccElrnMuERERFReDSwq+piL3PSIiImp7DC4pSMWlC8dgERERlRWDSwpSVanit0VERFRWvBWn\nIBUX32rP++5b2mshIiLqzNj4kUJUP5bly9l8REREVEq87aYQtUhiXV1pr4OIiKizY1NRChw5RERE\n1D4wuKTQtWu5r4CIiIiACgsuSqmHlFIzlFLLlFJfK6VuV0oNdfZZ6fxpUUrtU8h5H38cuP76wq6d\nctXX15f7Ejodfuelx++89Pidd2wVFVwAPA3gVwA2ALA3gPUA3OfZ7yAAgwEMATAUwIOFnHT99YGj\njirkCOTD/7mUHr/z0uN3Xnr8zju2iuqcq7W+wno5Uyl1EYAHlFLVWmt71aAGrfXcEl8eERERtbFK\nq7j8P6VUfwD7A3jRCS0AcI1Saq5S6lWl1CFluDwiIiJqAxUXXJRSFymllgCYB2ANAHs6u5wJYB8A\nOwL4B4BrlVLHlvYqiYiIqC2UvalIKXUhgAkxu2gAI7TWH7e+vgTAzQDWAnAWgDsA7Pr/O2t9vvXZ\n/yqlegA4BcDVMefoCgAffPBB5uun/DU0NGDq1KnlvoxOhd956fE7Lz1+56Vl3TtLMgZX6ajZ1UpE\nKTUAwICE3aZrrZs9n10NwEwAW2utX404/s8BPAygq9a6KWKfXwO4K9OFExERkW1/rfXdbX2Ssldc\ntNbzAczP8+PVrY9xc9iOBLAgKrS0egymv8znAJbneS1ERESdUVcAa8PcS9tc2SsuaSmltgSwBYAX\nACwAsD6AcwEMArCJ1rpJKbUrzDDoV2ACyE4ALgVwidb63LJcOBERERVN2SsuGXwHM3fL2QB6AJgF\n4N8AzreqKU0AjgFwOQAFYBqAE7TWN5f8aomIiKjoKqbiQkRERFRxw6GJiIio82JwISIioorR6YOL\nUuoYpdRnrQs3vqKU2qLc11SplFJ/VEq9ppRapJSao5R6QCm1gWe/c1sXyfxOKfWEUmp95/06pdQ1\nSql5SqnFSql/KKVWKd1PUpmUUqe2Lix6ubOd33eRKaVWVUrd0fqdfaeU+q9SapSzD7/3IlFKVSml\nzlNKTW/9Pqcppc7w7MfvPE9KqR8qpSYrpb5q/f/I7p59Cv5+lVL9lFJ3/V979x/rVV3Hcfz5SsEE\nxpiS3FypgA413IXBlIT4EW5sNH+wmtCPYWvOspFpbKgr02w5auENtDam5VRsqbnaWD80kLKI6QCl\nhkRMLzIDJAIxUX54effH5/ONw5cL8uV+v3zv4b4e2xnf8zmfe87n+75f7vd9zufzOUfSLkk7JT2Y\n77d2zHp04iJpOjCPdCO7kcAa4GlJA5vasPL6BHAfcBnpzsW9gGcknV6pIOlWYBZwA3ApsJsU896F\n/fwI+BTwaWA8cDbw1Il4A2WVE+4bSJ/hYrnjXWeSBgDLgb3AFOAiYDZptmOljuNeX7cBXwa+ClwI\nzAHmFO+K7ph3WV/gJVKMDxv8Wsf4/pz0f2ZyrjseWFhTSyOixy6kadPzC+sCXgfmNLttJ8MCDAQO\nAOMKZZuBWwrr/YF3gWsL63uBaYU6w/J+Lm32e+qOC9APWA98ElgG3Ot4NzTec4E/vU8dx72+MV8M\nPFBV9kvgEce8IfE+AFxVVdbl+JISlgPAyEKdKcB7QMuxtq/HXnGR1AsYBSytlEWK4hLg481q10lm\nAClz3wEgaTDQwqExfwt4noMxH02apl+ssx7YhH8vR/JjYHFEPFssdLwb5kpgpaQncpfoaknXVzY6\n7g3xV2CypAsAJLUCY4Hf5nXHvIHqGN8xpBvCvljY/RLS98Rlx9qeMt3Hpd4Gku68+0ZV+RukLNG6\nQJJIlw3/EhEv5+IW0ge0s5i35NeDgH35P8WR6lgmaQYwgvRHo5rj3RhDgBtJ3czfI102XyBpb0Q8\niuPeCHNJZ/T/kNRBGubwzYj4Rd7umDdWveLbAmwrboyIDkk7qOF30JMTF2usnwAXk86KrAEkfYSU\nHF4RR3+khdXXB4AXIuKOvL5G0nDgK6SHvlr9TQc+B8wAXiYl6/Mlbc7JovUgPbarCNgOdJCyxKJB\nwNYT35yTh6T7ganAxIjYUti0lTSO6Ggx3wr0ltT/KHUsGUV65MVqSfsl7QcmAF+XtI90puN4198W\noPpR8uuAc/Jrf87r7wfA3Ih4MiLWRsRjQBtwe97umDdWveK7FaieZXQKcAY1/A56bOKSz1BXkUY2\nA//v3phM6k+145CTlquBSRGxqbgtItpJH85izPuT+jYrMV9FGqhVrDOM9KWwoqGNL58lwCWks8/W\nvKwEFgGtEfEqjncjLOfw7uRhwGvgz3mD9CGdaBYdIH+HOeaNVcf4rgAGSBpZ2P1kUlL0fC0N6rEL\ncC3pGUgzSVPsFpKeVP2hZretjAupe2gnaVr0oMLywUKdOTnGV5K+dH8NbAB6V+2nHZhIuqqwHPhz\ns99fGRYOn1XkeNc/xqNJsyduB4aSujD+C8xw3BsW84dIgzynAucC00hjJe5xzOsW476kk58RpKTw\n5rz+0XrGlzSgeiXpocljSTMiH62prc0OVrMX0pz1jaRpXSuA0c1uU1mX/GHv6GSZWVXvLtLUundI\nj0E/v2r7aaT7wWzPXwhPAmc1+/2VYQGeLSYujnfD4jwV+FuO6VrgS53UcdzrF+++pIfntpPuH7IB\n+A5wqmNetxhPOMLf8J/VM76k2aaLgF2kE90HgD61tNUPWTQzM7PS6LFjXMzMzKx8nLiYmZlZaThx\nMTMzs9Jw4mJmZmal4cTFzMzMSsOJi5mZmZWGExczMzMrDScuZmZmVhpOXMzMzKw0nLiYWc0kLZN0\nb7PbUSTpgKSrmt0OM2ss3/LfzGomaQCwPyJ2S2oH2iJiwQk69p3ANRExsqr8LGBnpCe/m9lJ6tRm\nN8DMyici3qz3PiX1qiHpOOyMKyK21blJZtYNuavIzGqWu4raJC0DzgXacldNR6HOOEnPSXpH0muS\n5kvqU9jeLulbkh6WtAtYmMvnSlovabekVyTdLemUvO064E6gtXI8STPztkO6iiQNl7Q0H3+7pIWS\n+ha2PyTpV5JmS9qc69xfOZaZdU9OXMzseAUwDXgduANoAT4MIGko8DvSY+2HA9OBsaRH3hfNBl4C\nRgDfzWVvATOBi4CbgOuBW/K2x4F5wFpgUD7e49UNywnS08B/gFHAZ4ArOjn+JGAIMDEf84t5MbNu\nyl1FZnbcIuLNfJXl7aqumtuARRFRSRRelXQz8EdJN0bEvly+NCLaqvZ5T2F1k6R5pMTnhxGxR9Lb\nwHsR8e+jNO3zwGnAzIjYA6yTNAtYLOnWws/uAGZFGuz3T0m/ASYDP601FmZ2YjhxMbNGaAUukfSF\nQpnyv4OB9fn1quoflDQd+BowFOhH+ju1q8bjXwisyUlLxXLSVeZhQCVxWRuHzlDYQrpCZGbdlBMX\nM2uEfqQxK/M5mLBUbCq83l3cIGkMsIjU9fQMKWH5LPCNBrWzejBw4C50s27NiYuZddU+oHpA62rg\n4ohor3FflwMbI2JupUDSecdwvGrrgOsknR4R7+aycUAHB6/2mFkJ+czCzLpqIzBe0tmSzsxl3wcu\nl3SfpFZJ50u6WlL14NhqG4BzJE2XNETSTcA1nRxvcN7vmZJ6d7Kfx4A9wMOSPiZpErAAeOR9xsaY\nWTfnxMXMjkdxXMi3gfOAV4BtABHxd2ACcAHwHOkKzF3Av46wD/LPLQbaSLN/XgTGAHdXVXsK+D2w\nLB9vRvX+8lWWKcAZwAvAE8AfSGNnzKzEfOdcMzMzKw1fcTEzM7PScOJiZmZmpeHExczMzErDiYuZ\nmZmVhhMXMzMzKw0nLmZmZlYaTlzMzMysNJy4mJmZWWk4cTEzM7PScOJiZmZmpeHExczMzErj4CF9\nDQAAAAVJREFUfyfsW/6pWcsQAAAAAElFTkSuQmCC\n",
      "text/plain": [
       "<matplotlib.figure.Figure at 0x111406f90>"
>>>>>>> parent of 4c50b87... Change learning rate and dataset
      ]
     },
     "metadata": {},
     "output_type": "display_data"
<<<<<<< Updated upstream
    },
=======
    }
   ],
   "source": [
    "beta_convergence = [numpy.sum(elogbeta[i+1]-elogbeta[i]) for i in range(1, len(elogbeta)-1)]\n",
    "\n",
    "plt.figure()\n",
    "plt.plot(range(len(beta_convergence)), beta_convergence)\n",
    "plt.ylabel('elogbeta')\n",
    "plt.xlabel('iteration')\n",
    "plt.show()\n"
   ]
  },
  {
   "cell_type": "code",
   "execution_count": 88,
   "metadata": {
    "collapsed": false,
    "deletable": true,
    "editable": true
   },
   "outputs": [
>>>>>>> Stashed changes
    {
     "data": {
<<<<<<< HEAD
      "image/png": "iVBORw0KGgoAAAANSUhEUgAAAYgAAAD8CAYAAABthzNFAAAABHNCSVQICAgIfAhkiAAAAAlwSFlz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\n",
      "text/plain": [
       "<matplotlib.figure.Figure at 0x111ed2ed0>"
=======
      "image/png": "iVBORw0KGgoAAAANSUhEUgAAAisAAAF5CAYAAABeAGpJAAAABHNCSVQICAgIfAhkiAAAAAlwSFlz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\n",
      "text/plain": [
       "<matplotlib.figure.Figure at 0x11137bc50>"
>>>>>>> parent of 4c50b87... Change learning rate and dataset
      ]
     },
     "metadata": {},
     "output_type": "display_data"
    },
    {
     "name": "stdout",
     "output_type": "stream",
     "text": [
      "Error in callback <function post_execute at 0x10d662500> (for post_execute):\n"
     ]
    },
    {
     "ename": "AttributeError",
     "evalue": "'NoneType' object has no attribute 'is_interactive'",
     "output_type": "error",
     "traceback": [
      "\u001b[0;31m---------------------------------------------------------------------------\u001b[0m",
      "\u001b[0;31mAttributeError\u001b[0m                            Traceback (most recent call last)",
      "\u001b[0;32m//anaconda/lib/python2.7/site-packages/matplotlib/pyplot.py\u001b[0m in \u001b[0;36mpost_execute\u001b[0;34m()\u001b[0m\n\u001b[1;32m    146\u001b[0m \u001b[0;34m\u001b[0m\u001b[0m\n\u001b[1;32m    147\u001b[0m             \u001b[0;32mdef\u001b[0m \u001b[0mpost_execute\u001b[0m\u001b[0;34m(\u001b[0m\u001b[0;34m)\u001b[0m\u001b[0;34m:\u001b[0m\u001b[0;34m\u001b[0m\u001b[0m\n\u001b[0;32m--> 148\u001b[0;31m                 \u001b[0;32mif\u001b[0m \u001b[0mmatplotlib\u001b[0m\u001b[0;34m.\u001b[0m\u001b[0mis_interactive\u001b[0m\u001b[0;34m(\u001b[0m\u001b[0;34m)\u001b[0m\u001b[0;34m:\u001b[0m\u001b[0;34m\u001b[0m\u001b[0m\n\u001b[0m\u001b[1;32m    149\u001b[0m                     \u001b[0mdraw_all\u001b[0m\u001b[0;34m(\u001b[0m\u001b[0;34m)\u001b[0m\u001b[0;34m\u001b[0m\u001b[0m\n\u001b[1;32m    150\u001b[0m \u001b[0;34m\u001b[0m\u001b[0m\n",
      "\u001b[0;31mAttributeError\u001b[0m: 'NoneType' object has no attribute 'is_interactive'"
     ]
    }
   ],
   "source": [
    "from matplotlib import pyplot as plt\n",
    "%matplotlib inline\n",
    "import warnings\n",
    "warnings.filterwarnings(\"ignore\")\n",
    "plt.figure()\n",
    "plt.plot(range(len(rho)), rho)\n",
    "plt.ylabel('some numbers')\n",
    "plt.show()\n",
    "\n",
    "plt.figure()\n",
    "plt.semilogy(range(len(perplex)), perplex)\n",
    "plt.ylabel('some numbers')\n",
    "plt.show()"
   ]
  },
  {
   "cell_type": "markdown",
   "metadata": {
    "collapsed": false,
    "deletable": true,
    "editable": true
   },
   "source": [
    "## Print vocabulary per topic"
   ]
  },
  {
   "cell_type": "code",
<<<<<<< HEAD
   "execution_count": null,
=======
   "execution_count": 89,
>>>>>>> parent of 4c50b87... Change learning rate and dataset
   "metadata": {
    "collapsed": false,
    "deletable": true,
    "editable": true
   },
<<<<<<< Updated upstream
   "outputs": [],
   "source": []
=======
   "outputs": [
    {
     "name": "stdout",
     "output_type": "stream",
     "text": [
      "topic 0:\n",
      "                 dog  \t---\t  0.0609\n",
      "            standing  \t---\t  0.0290\n",
      "               white  \t---\t  0.0268\n",
      "             running  \t---\t  0.0262\n",
      "               black  \t---\t  0.0252\n",
      "             wearing  \t---\t  0.0245\n",
      "              people  \t---\t  0.0207\n",
      "               brown  \t---\t  0.0199\n",
      "               grass  \t---\t  0.0156\n",
      "                 red  \t---\t  0.0135\n",
      "\n",
      "topic 1:\n",
      "                 man  \t---\t  0.1339\n",
      "               woman  \t---\t  0.0700\n",
      "             playing  \t---\t  0.0432\n",
      "              guitar  \t---\t  0.0187\n",
      "              riding  \t---\t  0.0175\n",
      "              person  \t---\t  0.0147\n",
      "             walking  \t---\t  0.0116\n",
      "             dancing  \t---\t  0.0115\n",
      "             slicing  \t---\t  0.0111\n",
      "             cutting  \t---\t  0.0106\n",
      "\n",
      "topic 2:\n",
      "                 boy  \t---\t  0.0465\n",
      "             jumping  \t---\t  0.0357\n",
      "               young  \t---\t  0.0310\n",
      "             sitting  \t---\t  0.0204\n",
      "              person  \t---\t  0.0200\n",
      "               child  \t---\t  0.0157\n",
      "                 cat  \t---\t  0.0148\n",
      "               water  \t---\t  0.0143\n",
      "                girl  \t---\t  0.0136\n",
      "            climbing  \t---\t  0.0132\n",
      "\n"
     ]
    }
   ],
   "source": [
    "num_vocab_display = 10\n",
    "\n",
    "for k in range(0, len(olda._lambda)):\n",
    "    lambdak = list(olda._lambda[k, :])\n",
    "    lambdak = lambdak / sum(lambdak)\n",
    "    temp = zip(lambdak, range(0, len(lambdak)))\n",
    "    temp = sorted(temp, key = lambda x: x[0], reverse=True)\n",
    "    print 'topic %d:' % (k)\n",
    "    for i in range(0, num_vocab_display):\n",
    "        print '%20s  \\t---\\t  %.4f' % (vocab[temp[i][1]], temp[i][0])\n",
    "    print"
   ]
  },
  {
   "cell_type": "markdown",
   "metadata": {
    "collapsed": true,
    "deletable": true,
    "editable": true
   },
   "source": [
    "## Variational Inference w/ no Stochastisisty"
   ]
>>>>>>> Stashed changes
  },
  {
   "cell_type": "code",
   "execution_count": null,
   "metadata": {
<<<<<<< Updated upstream
    "collapsed": true
=======
    "collapsed": false,
    "deletable": true,
    "editable": true
>>>>>>> Stashed changes
   },
   "outputs": [],
   "source": []
  },
  {
   "cell_type": "code",
   "execution_count": null,
   "metadata": {
    "collapsed": true,
    "deletable": true,
    "editable": true
   },
   "outputs": [],
   "source": []
  }
 ],
 "metadata": {
  "anaconda-cloud": {},
  "kernelspec": {
   "display_name": "Python 2",
   "language": "python",
   "name": "python2"
  },
  "language_info": {
   "codemirror_mode": {
    "name": "ipython",
    "version": 2
   },
   "file_extension": ".py",
   "mimetype": "text/x-python",
   "name": "python",
   "nbconvert_exporter": "python",
   "pygments_lexer": "ipython2",
   "version": "2.7.13"
  }
 },
 "nbformat": 4,
 "nbformat_minor": 0
}
