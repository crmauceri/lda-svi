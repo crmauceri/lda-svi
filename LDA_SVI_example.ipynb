{
 "cells": [
  {
   "cell_type": "code",
   "execution_count": 1,
   "metadata": {
    "collapsed": true,
    "deletable": true,
    "editable": true
   },
   "outputs": [],
   "source": [
    "import cPickle, string, numpy, getopt, sys, random, time, re\n",
    "\n",
    "import onlineldavb"
   ]
  },
  {
   "cell_type": "markdown",
   "metadata": {
    "deletable": true,
    "editable": true
   },
   "source": [
    "## Fetch a corpus"
   ]
  },
  {
   "cell_type": "code",
   "execution_count": 2,
   "metadata": {
    "collapsed": true,
    "deletable": true,
    "editable": true
   },
   "outputs": [],
   "source": [
    "from sklearn.datasets import fetch_20newsgroups\n",
    "\n",
    "categories=['sci.space','sci.electronics','rec.motorcycles','rec.sport.baseball']\n",
    "\n",
    "newsgroups_train = fetch_20newsgroups(subset='train',\n",
    "                                     categories=categories)"
   ]
  },
  {
<<<<<<< Updated upstream
   "cell_type": "code",
   "execution_count": 3,
   "metadata": {
    "collapsed": true
   },
   "outputs": [],
=======
   "cell_type": "markdown",
   "metadata": {
    "deletable": true,
    "editable": true
   },
>>>>>>> Stashed changes
   "source": [
    "import pickle"
   ]
  },
  {
   "cell_type": "code",
   "execution_count": 4,
   "metadata": {
    "collapsed": true,
    "deletable": true,
    "editable": true
   },
   "outputs": [],
   "source": [
    "from nltk.stem import PorterStemmer\n",
    "\n",
    "ps = PorterStemmer()\n",
    "\n",
    "def stem(sentance):\n",
    "   q = sentance.split()\n",
    "   s2= []\n",
    "   for i in q:\n",
    "       s2.append(ps.stem(i))\n",
    "   return ' '.join(s2)"
   ]
  },
  {
   "cell_type": "code",
   "execution_count": 5,
   "metadata": {
    "collapsed": true,
    "deletable": true,
    "editable": true
   },
   "outputs": [],
   "source": [
    "wds=pickle.load(open(\"msrvid.p\",'rb'))\n",
    "dat=[]\n",
    "for i in wds:\n",
    "    dat.append((i[0]))\n",
    "    dat.append((i[1]))"
   ]
  },
  {
   "cell_type": "markdown",
   "metadata": {
    "deletable": true,
    "editable": true
   },
   "source": [
    "## Set parameters for SVI"
   ]
  },
  {
   "cell_type": "code",
   "execution_count": 56,
   "metadata": {
    "collapsed": false,
    "deletable": true,
    "editable": true
   },
   "outputs": [],
   "source": [
    "K = 3 #Number of topics\n",
    "D = len(dat) #Number of documents\n",
    "batchsize = 16\n",
    "num_iterations = 1000"
   ]
  },
  {
<<<<<<< Updated upstream
   "cell_type": "code",
   "execution_count": 46,
   "metadata": {
    "collapsed": true
   },
   "outputs": [],
=======
   "cell_type": "markdown",
   "metadata": {
    "deletable": true,
    "editable": true
   },
>>>>>>> Stashed changes
   "source": [
    "from nltk.corpus import stopwords\n",
    "sw=stopwords.words('english')"
   ]
  },
  {
   "cell_type": "code",
   "execution_count": 47,
   "metadata": {
    "collapsed": false,
    "deletable": true,
    "editable": true
   },
   "outputs": [],
   "source": [
    "from sklearn.feature_extraction.text import TfidfVectorizer,CountVectorizer\n",
    "vectorizer = CountVectorizer()\n",
    "\n",
    "vectors = vectorizer.fit(dat)\n",
    "vocab = []\n",
    "\n",
    "for i in vectorizer.vocabulary_.keys():\n",
    "    if i not in sw:\n",
    "        vocab.append(i)"
   ]
  },
  {
   "cell_type": "code",
   "execution_count": 48,
   "metadata": {
    "collapsed": false
   },
   "outputs": [
    {
     "name": "stdout",
     "output_type": "stream",
     "text": [
      "1129 1075\n"
     ]
    }
   ],
   "source": [
    "print len(vectorizer.vocabulary_),len(vocab)"
   ]
  },
  {
   "cell_type": "code",
   "execution_count": null,
   "metadata": {
    "collapsed": false
   },
   "outputs": [],
   "source": []
  },
  {
   "cell_type": "markdown",
   "metadata": {
<<<<<<< Updated upstream
    "collapsed": true
=======
    "deletable": true,
    "editable": true
>>>>>>> Stashed changes
   },
   "source": [
    "## Get vocabulary"
   ]
  },
  {
   "cell_type": "code",
   "execution_count": null,
   "metadata": {
    "collapsed": false
   },
   "outputs": [],
   "source": []
  },
  {
   "cell_type": "code",
   "execution_count": 49,
   "metadata": {
    "collapsed": false,
    "deletable": true,
    "editable": true
   },
   "outputs": [
    {
     "name": "stdout",
     "output_type": "stream",
     "text": [
      "1500\n"
     ]
    }
   ],
   "source": [
    "print len(dat)"
   ]
  },
  {
   "cell_type": "code",
   "execution_count": 50,
   "metadata": {
    "collapsed": false
   },
   "outputs": [
    {
     "name": "stdout",
     "output_type": "stream",
     "text": [
      "1000\n"
     ]
    }
   ],
   "source": [
    "print num_iterations"
   ]
  },
  {
   "cell_type": "markdown",
   "metadata": {
    "deletable": true,
    "editable": true
   },
   "source": [
    "## Function to get mini-batch"
   ]
  },
  {
   "cell_type": "code",
   "execution_count": 51,
   "metadata": {
    "collapsed": true,
    "deletable": true,
    "editable": true
   },
   "outputs": [],
   "source": [
    "from random import sample\n",
    "\n",
    "def getbatch(size, iteration):\n",
    "    sample_idx = sample(range(D), size)\n",
    "    return [dat[i] for i in sample_idx]"
   ]
  },
  {
   "cell_type": "markdown",
   "metadata": {
    "collapsed": false,
    "deletable": true,
    "editable": true
   },
   "source": [
    "## Train LDA model using SVI"
   ]
  },
  {
   "cell_type": "code",
   "execution_count": 57,
   "metadata": {
    "collapsed": false,
<<<<<<< Updated upstream
    "scrolled": true
=======
    "deletable": true,
    "editable": true
>>>>>>> Stashed changes
   },
   "outputs": [
    {
     "name": "stdout",
     "output_type": "stream",
     "text": [
      "Parameters: \n",
      "\t Num topics: 3 \n",
      "\t Num documents: 1500\n",
      "\t prior on weight vectors (theta): 0.33 \n",
      "\t prior on topics (beta): 0.33\n",
      "\t burn in rate: 1024.00 \n",
      "\t learning rate: 0.70\n",
      "Training iteration 0\n",
      "Training iteration 50\n",
      "Training iteration 100\n",
      "Training iteration 150\n",
      "Training iteration 200\n",
      "Training iteration 250\n",
      "Training iteration 300\n",
      "Training iteration 350\n",
      "Training iteration 400\n",
      "Training iteration 450\n",
      "Training iteration 500\n",
      "Training iteration 550\n",
      "Training iteration 600\n",
      "Training iteration 650\n",
      "Training iteration 700\n",
      "Training iteration 750\n",
      "Training iteration 800\n",
      "Training iteration 850\n",
      "Training iteration 900\n",
      "Training iteration 950\n",
      "Training iteration 1000\n",
      "Training iteration 1050\n",
      "Training iteration 1100\n",
      "Training iteration 1150\n",
      "Training iteration 1200\n",
      "Training iteration 1250\n",
      "Training iteration 1300\n",
      "Training iteration 1350\n",
      "Training iteration 1400\n",
      "Training iteration 1450\n",
      "Training iteration 1500\n",
      "Training iteration 1550\n",
      "Training iteration 1600\n",
      "Training iteration 1650\n",
      "Training iteration 1700\n",
      "Training iteration 1750\n",
      "Training iteration 1800\n",
      "Training iteration 1850\n",
      "Training iteration 1900\n",
      "Training iteration 1950\n",
      "Training iteration 2000\n",
      "Training iteration 2050\n",
      "Training iteration 2100\n",
      "Training iteration 2150\n",
      "Training iteration 2200\n",
      "Training iteration 2250\n",
      "Training iteration 2300\n",
      "Training iteration 2350\n",
      "Training iteration 2400\n",
      "Training iteration 2450\n",
      "Training iteration 2500\n",
      "Training iteration 2550\n",
      "Training iteration 2600\n",
      "Training iteration 2650\n",
      "Training iteration 2700\n",
      "Training iteration 2750\n",
      "Training iteration 2800\n",
      "Training iteration 2850\n",
      "Training iteration 2900\n",
      "Training iteration 2950\n",
      "Training iteration 3000\n",
      "Training iteration 3050\n",
      "Training iteration 3100\n",
      "Training iteration 3150\n",
      "Training iteration 3200\n",
      "Training iteration 3250\n",
      "Training iteration 3300\n",
      "Training iteration 3350\n",
      "Training iteration 3400\n",
      "Training iteration 3450\n",
      "Training iteration 3500\n",
      "Training iteration 3550\n",
      "Training iteration 3600\n",
      "Training iteration 3650\n",
      "Training iteration 3700\n",
      "Training iteration 3750\n",
      "Training iteration 3800\n",
      "Training iteration 3850\n",
      "Training iteration 3900\n",
      "Training iteration 3950\n",
      "Done training\n"
     ]
    }
   ],
   "source": [
    "print \"Parameters: \\n\\t Num topics: %d \\n\\t Num documents: %d\" % (K, D)\n",
    "print \"\\t prior on weight vectors (theta): %4.2f \\n\\t prior on topics (beta): %4.2f\" % (1./K, 1./K)\n",
    "print \"\\t burn in rate: %4.2f \\n\\t learning rate: %4.2f\" % (1024., 0.7)\n",
    "\n",
    "rho = []\n",
    "perplex = []\n",
    "eb=[]\n",
    "num_iterations=4000\n",
    "olda = onlineldavb.OnlineLDA(vocab, K, D, 1./K, 1./K, 1024., 0.1)\n",
    "for iteration in range(0, num_iterations):\n",
    "    docset=getbatch(batchsize,iteration)\n",
    "    (gamma, bound) = olda.update_lambda(docset)\n",
    "    (wordids, wordcts) = onlineldavb.parse_doc_list(docset, olda._vocab,False)\n",
    "    perwordbound = bound * len(docset) / (D * sum(map(sum, wordcts)))\n",
    "    rho.append(olda._rhot,)\n",
    "    eb.append(olda._Elogbeta)\n",
    "    perplex.append(numpy.exp(-perwordbound))\n",
    "    \n",
    "    if (iteration % 50 == 0):\n",
    "        print \"Training iteration %d\" % iteration\n",
    "            \n",
    "print \"Done training\""
   ]
  },
  {
<<<<<<< Updated upstream
=======
   "cell_type": "markdown",
   "metadata": {
    "deletable": true,
    "editable": true
   },
   "source": [
    "## Convergence visualization"
   ]
  },
  {
   "cell_type": "code",
   "execution_count": 10,
   "metadata": {
    "collapsed": true,
    "deletable": true,
    "editable": true
   },
   "outputs": [],
   "source": [
    "import warnings\n",
    "warnings.filterwarnings('ignore')"
   ]
  },
  {
>>>>>>> Stashed changes
   "cell_type": "code",
   "execution_count": 58,
   "metadata": {
    "collapsed": false,
<<<<<<< Updated upstream
    "scrolled": true
=======
    "deletable": true,
    "editable": true
>>>>>>> Stashed changes
   },
   "outputs": [
    {
     "name": "stdout",
     "output_type": "stream",
     "text": [
      "topic 0:\n",
      "                 dog  \t---\t  0.0411\n",
      "               water  \t---\t  0.0377\n",
      "                bear  \t---\t  0.0273\n",
      "               panda  \t---\t  0.0273\n",
      "            drinking  \t---\t  0.0266\n",
      "topic 1:\n",
      "                 man  \t---\t  0.2110\n",
      "             playing  \t---\t  0.1131\n",
      "              guitar  \t---\t  0.0802\n",
      "                 boy  \t---\t  0.0331\n",
      "               plays  \t---\t  0.0320\n",
      "topic 2:\n",
      "               woman  \t---\t  0.2122\n",
      "             slicing  \t---\t  0.0470\n",
      "              potato  \t---\t  0.0376\n",
      "              eating  \t---\t  0.0346\n",
      "             cutting  \t---\t  0.0293\n"
     ]
    }
   ],
   "source": [
    "num_vocab_display = 5\n",
    "\n",
    "for k in range(0, len(olda._lambda)):\n",
    "    lambdak = list(olda._lambda[k, :])\n",
    "    lambdak = lambdak / sum(lambdak)\n",
    "    temp = zip(lambdak, range(0, len(lambdak)))\n",
    "    temp = sorted(temp, key = lambda x: x[0], reverse=True)\n",
    "    print 'topic %d:' % (k)\n",
    "    for i in range(0, num_vocab_display):\n",
    "        print '%20s  \\t---\\t  %.4f' % (vocab[temp[i][1]], temp[i][0])"
   ]
  },
  {
   "cell_type": "markdown",
   "metadata": {},
   "source": [
    "## Convergence visualization"
   ]
  },
  {
   "cell_type": "code",
   "execution_count": 62,
   "metadata": {
    "collapsed": false,
<<<<<<< Updated upstream
    "scrolled": true
=======
    "deletable": true,
    "editable": true
>>>>>>> Stashed changes
   },
   "outputs": [
    {
     "data": {
      "image/png": "iVBORw0KGgoAAAANSUhEUgAAAYsAAAD8CAYAAACGsIhGAAAABHNCSVQICAgIfAhkiAAAAAlwSFlz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\neaD1UAAAAABJRU5ErkJggg==\n",
      "text/plain": [
       "<matplotlib.figure.Figure at 0x1118d5ed0>"
      ]
     },
     "metadata": {},
     "output_type": "display_data"
<<<<<<< Updated upstream
    },
=======
    }
   ],
   "source": [
    "beta_convergence = [numpy.sum(elogbeta[i+1]-elogbeta[i]) for i in range(1, len(elogbeta)-1)]\n",
    "\n",
    "plt.figure()\n",
    "plt.plot(range(len(beta_convergence)), beta_convergence)\n",
    "plt.ylabel('elogbeta')\n",
    "plt.xlabel('iteration')\n",
    "plt.show()\n"
   ]
  },
  {
   "cell_type": "code",
   "execution_count": 23,
   "metadata": {
    "collapsed": false,
    "deletable": true,
    "editable": true
   },
   "outputs": [
>>>>>>> Stashed changes
    {
     "data": {
      "image/png": "iVBORw0KGgoAAAANSUhEUgAAAYgAAAD8CAYAAABthzNFAAAABHNCSVQICAgIfAhkiAAAAAlwSFlz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\n",
      "text/plain": [
       "<matplotlib.figure.Figure at 0x111ed2ed0>"
      ]
     },
     "metadata": {},
     "output_type": "display_data"
    },
    {
     "name": "stdout",
     "output_type": "stream",
     "text": [
      "Error in callback <function post_execute at 0x10d662500> (for post_execute):\n"
     ]
    },
    {
     "ename": "AttributeError",
     "evalue": "'NoneType' object has no attribute 'is_interactive'",
     "output_type": "error",
     "traceback": [
      "\u001b[0;31m---------------------------------------------------------------------------\u001b[0m",
      "\u001b[0;31mAttributeError\u001b[0m                            Traceback (most recent call last)",
      "\u001b[0;32m//anaconda/lib/python2.7/site-packages/matplotlib/pyplot.py\u001b[0m in \u001b[0;36mpost_execute\u001b[0;34m()\u001b[0m\n\u001b[1;32m    146\u001b[0m \u001b[0;34m\u001b[0m\u001b[0m\n\u001b[1;32m    147\u001b[0m             \u001b[0;32mdef\u001b[0m \u001b[0mpost_execute\u001b[0m\u001b[0;34m(\u001b[0m\u001b[0;34m)\u001b[0m\u001b[0;34m:\u001b[0m\u001b[0;34m\u001b[0m\u001b[0m\n\u001b[0;32m--> 148\u001b[0;31m                 \u001b[0;32mif\u001b[0m \u001b[0mmatplotlib\u001b[0m\u001b[0;34m.\u001b[0m\u001b[0mis_interactive\u001b[0m\u001b[0;34m(\u001b[0m\u001b[0;34m)\u001b[0m\u001b[0;34m:\u001b[0m\u001b[0;34m\u001b[0m\u001b[0m\n\u001b[0m\u001b[1;32m    149\u001b[0m                     \u001b[0mdraw_all\u001b[0m\u001b[0;34m(\u001b[0m\u001b[0;34m)\u001b[0m\u001b[0;34m\u001b[0m\u001b[0m\n\u001b[1;32m    150\u001b[0m \u001b[0;34m\u001b[0m\u001b[0m\n",
      "\u001b[0;31mAttributeError\u001b[0m: 'NoneType' object has no attribute 'is_interactive'"
     ]
    }
   ],
   "source": [
    "from matplotlib import pyplot as plt\n",
    "%matplotlib inline\n",
    "import warnings\n",
    "warnings.filterwarnings(\"ignore\")\n",
    "plt.figure()\n",
    "plt.plot(range(len(rho)), rho)\n",
    "plt.ylabel('some numbers')\n",
    "plt.show()\n",
    "\n",
    "plt.figure()\n",
    "plt.semilogy(range(len(perplex)), perplex)\n",
    "plt.ylabel('some numbers')\n",
    "plt.show()"
   ]
  },
  {
   "cell_type": "markdown",
   "metadata": {
    "collapsed": false,
    "deletable": true,
    "editable": true
   },
   "source": [
    "## Print vocabulary per topic"
   ]
  },
  {
   "cell_type": "code",
   "execution_count": null,
   "metadata": {
    "collapsed": false,
    "deletable": true,
    "editable": true
   },
<<<<<<< Updated upstream
   "outputs": [],
   "source": []
=======
   "outputs": [
    {
     "name": "stdout",
     "output_type": "stream",
     "text": [
      "topic 0:\n",
      "                 man  \t---\t  0.1763\n",
      "             playing  \t---\t  0.0670\n",
      "              guitar  \t---\t  0.0299\n",
      "                 boy  \t---\t  0.0140\n",
      "                girl  \t---\t  0.0137\n",
      "                 cat  \t---\t  0.0130\n",
      "             dancing  \t---\t  0.0113\n",
      "              riding  \t---\t  0.0109\n",
      "               piano  \t---\t  0.0093\n",
      "             singing  \t---\t  0.0081\n",
      "\n",
      "topic 1:\n",
      "               woman  \t---\t  0.1343\n",
      "             slicing  \t---\t  0.0391\n",
      "              person  \t---\t  0.0343\n",
      "             cutting  \t---\t  0.0238\n",
      "              potato  \t---\t  0.0177\n",
      "               onion  \t---\t  0.0146\n",
      "             peeling  \t---\t  0.0126\n",
      "                 dog  \t---\t  0.0114\n",
      "            chopping  \t---\t  0.0092\n",
      "                meat  \t---\t  0.0085\n",
      "\n",
      "topic 2:\n",
      "                 men  \t---\t  0.0191\n",
      "             running  \t---\t  0.0136\n",
      "             dancing  \t---\t  0.0130\n",
      "              people  \t---\t  0.0117\n",
      "                baby  \t---\t  0.0107\n",
      "               group  \t---\t  0.0086\n",
      "               child  \t---\t  0.0064\n",
      "                side  \t---\t  0.0055\n",
      "            fighting  \t---\t  0.0050\n",
      "                flag  \t---\t  0.0050\n",
      "\n"
     ]
    }
   ],
   "source": [
    "num_vocab_display = 10\n",
    "\n",
    "for k in range(0, len(olda._lambda)):\n",
    "    lambdak = list(olda._lambda[k, :])\n",
    "    lambdak = lambdak / sum(lambdak)\n",
    "    temp = zip(lambdak, range(0, len(lambdak)))\n",
    "    temp = sorted(temp, key = lambda x: x[0], reverse=True)\n",
    "    print 'topic %d:' % (k)\n",
    "    for i in range(0, num_vocab_display):\n",
    "        print '%20s  \\t---\\t  %.4f' % (vocab[temp[i][1]], temp[i][0])\n",
    "    print"
   ]
  },
  {
   "cell_type": "markdown",
   "metadata": {
    "collapsed": true,
    "deletable": true,
    "editable": true
   },
   "source": [
    "## Variational Inference w/ no Stochastisisty"
   ]
>>>>>>> Stashed changes
  },
  {
   "cell_type": "code",
   "execution_count": null,
   "metadata": {
<<<<<<< Updated upstream
    "collapsed": true
=======
    "collapsed": false,
    "deletable": true,
    "editable": true
>>>>>>> Stashed changes
   },
   "outputs": [],
   "source": []
  },
  {
   "cell_type": "code",
   "execution_count": null,
   "metadata": {
    "collapsed": true,
    "deletable": true,
    "editable": true
   },
   "outputs": [],
   "source": []
  }
 ],
 "metadata": {
  "anaconda-cloud": {},
  "kernelspec": {
   "display_name": "Python 2",
   "language": "python",
   "name": "python2"
  },
  "language_info": {
   "codemirror_mode": {
    "name": "ipython",
    "version": 2
   },
   "file_extension": ".py",
   "mimetype": "text/x-python",
   "name": "python",
   "nbconvert_exporter": "python",
   "pygments_lexer": "ipython2",
   "version": "2.7.13"
  }
 },
 "nbformat": 4,
 "nbformat_minor": 0
}
