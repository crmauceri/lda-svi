{
 "cells": [
  {
   "cell_type": "code",
   "execution_count": 1,
   "metadata": {
    "collapsed": true,
    "deletable": true,
    "editable": true
   },
   "outputs": [],
   "source": [
    "import cPickle, string, numpy, getopt, sys, random, time, re\n",
    "\n",
    "import onlineldavb"
   ]
  },
  {
   "cell_type": "markdown",
   "metadata": {
    "deletable": true,
    "editable": true
   },
   "source": [
    "## Fetch a corpus"
   ]
  },
  {
   "cell_type": "code",
   "execution_count": 2,
   "metadata": {
    "collapsed": true,
    "deletable": true,
    "editable": true
   },
   "outputs": [],
   "source": [
    "documents = ['fuzzy leopard', 'fuzzy cloud leopard', 'rainy cloud',  'rainy fuzzy cloud']\n",
    "topics = ['cute animal', 'weather']"
   ]
  },
  {
   "cell_type": "markdown",
   "metadata": {
    "deletable": true,
    "editable": true
   },
   "source": [
    "## Set parameters for SVI"
   ]
  },
  {
   "cell_type": "code",
   "execution_count": 4,
   "metadata": {
    "collapsed": false,
    "deletable": true,
    "editable": true
   },
   "outputs": [],
   "source": [
    "K = len(topics) #Number of topics\n",
    "D = len(documents) #Number of documents\n",
    "batchsize = 4\n",
    "num_iterations = 1000"
   ]
  },
  {
   "cell_type": "markdown",
   "metadata": {
    "collapsed": true,
    "deletable": true,
    "editable": true
   },
   "source": [
    "## Get vocabulary"
   ]
  },
  {
   "cell_type": "code",
   "execution_count": 5,
   "metadata": {
    "collapsed": false,
    "deletable": true,
    "editable": true
   },
   "outputs": [],
   "source": [
    "vocab = ['fuzzy', 'leopard', 'rainy', 'cloud']"
   ]
  },
  {
   "cell_type": "code",
   "execution_count": 6,
   "metadata": {
    "collapsed": false,
    "deletable": true,
    "editable": true
   },
   "outputs": [
    {
     "data": {
      "text/plain": [
       "['fuzzy', 'leopard', 'rainy', 'cloud']"
      ]
     },
     "execution_count": 6,
     "metadata": {},
     "output_type": "execute_result"
    }
   ],
   "source": [
    "vocab"
   ]
  },
  {
   "cell_type": "markdown",
   "metadata": {
    "deletable": true,
    "editable": true
   },
   "source": [
    "## Function to get mini-batch"
   ]
  },
  {
   "cell_type": "code",
   "execution_count": 7,
   "metadata": {
    "collapsed": true,
    "deletable": true,
    "editable": true
   },
   "outputs": [],
   "source": [
    "from random import sample\n",
    "\n",
    "def getbatch(size, iteration):\n",
    "    sample_idx = sample(range(D), size)\n",
    "    return [documents[i] for i in sample_idx]"
   ]
  },
  {
   "cell_type": "markdown",
   "metadata": {
    "collapsed": false,
    "deletable": true,
    "editable": true
   },
   "source": [
    "## Train LDA model using SVI"
   ]
  },
  {
   "cell_type": "code",
   "execution_count": 8,
   "metadata": {
    "collapsed": false,
    "deletable": true,
    "editable": true
   },
   "outputs": [
    {
     "name": "stdout",
     "output_type": "stream",
     "text": [
      "Parameters: \n",
      "\t Num topics: 2 \n",
      "\t Num documents: 4\n",
      "\t prior on weight vectors (theta): 0.50 \n",
      "\t prior on topics (beta): 0.50\n",
      "\t burn in rate: 1024.00 \n",
      "\t learning rate: 0.70\n",
      "Training iteration 0\n",
      "Training iteration 50\n",
      "Training iteration 100\n",
      "Training iteration 150\n",
      "Training iteration 200\n",
      "Training iteration 250\n",
      "Training iteration 300\n",
      "Training iteration 350\n",
      "Training iteration 400\n",
      "Training iteration 450\n",
      "Training iteration 500\n",
      "Training iteration 550\n",
      "Training iteration 600\n",
      "Training iteration 650\n",
      "Training iteration 700\n",
      "Training iteration 750\n",
      "Training iteration 800\n",
      "Training iteration 850\n",
      "Training iteration 900\n",
      "Training iteration 950\n",
      "Done training\n"
     ]
    }
   ],
   "source": [
    "print \"Parameters: \\n\\t Num topics: %d \\n\\t Num documents: %d\" % (K, D)\n",
    "print \"\\t prior on weight vectors (theta): %4.2f \\n\\t prior on topics (beta): %4.2f\" % (1./K, 1./K)\n",
    "print \"\\t burn in rate: %4.2f \\n\\t learning rate: %4.2f\" % (1024., 0.7)\n",
    "\n",
    "rho = []\n",
    "perplex = []\n",
    "\n",
    "olda = onlineldavb.OnlineLDA(vocab, K, D, 1./K, 1./K, 1024., 0.7)\n",
    "for iteration in range(0, num_iterations):\n",
    "    docset=getbatch(batchsize,iteration)\n",
    "    (gamma, bound) = olda.update_lambda(docset)\n",
    "    (wordids, wordcts) = onlineldavb.parse_doc_list(docset, olda._vocab,False)\n",
    "    perwordbound = bound * len(docset) / (D * sum(map(sum, wordcts)))\n",
    "    rho.append(olda._rhot,)\n",
    "    perplex.append(numpy.exp(-perwordbound))\n",
    "    \n",
    "    if (iteration % 50 == 0):\n",
    "        print \"Training iteration %d\" % iteration\n",
    "            \n",
    "print \"Done training\""
   ]
  },
  {
   "cell_type": "markdown",
   "metadata": {
    "deletable": true,
    "editable": true
   },
   "source": [
    "## Convergence visualization"
   ]
  },
  {
   "cell_type": "code",
   "execution_count": 9,
   "metadata": {
    "collapsed": false,
    "deletable": true,
    "editable": true
   },
   "outputs": [
    {
     "data": {
      "image/png": "[encoded data removed]",
      "text/plain": [
       "<matplotlib.figure.Figure at 0x10d2e5790>"
      ]
     },
     "metadata": {},
     "output_type": "display_data"
    },
    {
     "data": {
      "image/png": "[encoded data removed]",
      "text/plain": [
       "<matplotlib.figure.Figure at 0x111569f50>"
      ]
     },
     "metadata": {},
     "output_type": "display_data"
    }
   ],
   "source": [
    "from matplotlib import pyplot as plt\n",
    "\n",
    "plt.figure()\n",
    "plt.plot(range(len(rho)), rho)\n",
    "plt.ylabel('rho')\n",
    "plt.xlabel('iteration')\n",
    "plt.show()\n",
    "\n",
    "plt.figure()\n",
    "plt.plot(range(len(perplex)), perplex)\n",
    "plt.ylabel('held-out perplexity estimate')\n",
    "plt.xlabel('iteration')\n",
    "plt.show()"
   ]
  },
  {
   "cell_type": "markdown",
   "metadata": {
    "collapsed": false,
    "deletable": true,
    "editable": true
   },
   "source": [
    "## Print vocabulary per topic"
   ]
  },
  {
   "cell_type": "code",
   "execution_count": 10,
   "metadata": {
    "collapsed": false,
    "deletable": true,
    "editable": true
   },
   "outputs": [
    {
     "name": "stdout",
     "output_type": "stream",
     "text": [
      "topic 0:\n",
      "               cloud  \t---\t  0.3883\n",
      "               rainy  \t---\t  0.3560\n",
      "               fuzzy  \t---\t  0.1803\n",
      "             leopard  \t---\t  0.0753\n",
      "\n",
      "topic 1:\n",
      "               fuzzy  \t---\t  0.3896\n",
      "             leopard  \t---\t  0.3517\n",
      "               cloud  \t---\t  0.1843\n",
      "               rainy  \t---\t  0.0744\n",
      "\n"
     ]
    }
   ],
   "source": [
    "num_vocab_display = 4\n",
    "\n",
    "for k in range(0, len(olda._lambda)):\n",
    "    lambdak = list(olda._lambda[k, :])\n",
    "    lambdak = lambdak / sum(lambdak)\n",
    "    temp = zip(lambdak, range(0, len(lambdak)))\n",
    "    temp = sorted(temp, key = lambda x: x[0], reverse=True)\n",
    "    print 'topic %d:' % (k)\n",
    "    for i in range(0, num_vocab_display):\n",
    "        print '%20s  \\t---\\t  %.4f' % (vocab[temp[i][1]], temp[i][0])\n",
    "    print"
   ]
  },
  {
   "cell_type": "code",
   "execution_count": null,
   "metadata": {
    "collapsed": true,
    "deletable": true,
    "editable": true
   },
   "outputs": [],
   "source": []
  }
 ],
 "metadata": {
  "anaconda-cloud": {},
  "kernelspec": {
   "display_name": "Python [default]",
   "language": "python",
   "name": "python2"
  },
  "language_info": {
   "codemirror_mode": {
    "name": "ipython",
    "version": 2
   },
   "file_extension": ".py",
   "mimetype": "text/x-python",
   "name": "python",
   "nbconvert_exporter": "python",
   "pygments_lexer": "ipython2",
   "version": "2.7.12"
  }
 },
 "nbformat": 4,
 "nbformat_minor": 0
}
